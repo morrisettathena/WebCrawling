{
 "cells": [
  {
   "cell_type": "markdown",
   "id": "209316ce",
   "metadata": {},
   "source": [
    "## Tutorial Taken from:\n",
    "https://medium.com/analytics-vidhya/topic-modeling-using-gensim-lda-in-python-48eaa2344920"
   ]
  },
  {
   "cell_type": "code",
   "execution_count": 3,
   "id": "8fec70d4",
   "metadata": {},
   "outputs": [
    {
     "name": "stderr",
     "output_type": "stream",
     "text": [
      "[nltk_data] Downloading package stopwords to /home/jcm/nltk_data...\n",
      "[nltk_data]   Package stopwords is already up-to-date!\n"
     ]
    },
    {
     "data": {
      "text/plain": [
       "True"
      ]
     },
     "execution_count": 3,
     "metadata": {},
     "output_type": "execute_result"
    }
   ],
   "source": [
    "\"\"\"Import libraries\"\"\"\n",
    "import nltk\n",
    "import re\n",
    "import numpy as np\n",
    "import pandas as  pd\n",
    "from pprint import pprint# Gensim\n",
    "import gensim\n",
    "import gensim.corpora as corpora\n",
    "from gensim.utils import simple_preprocess\n",
    "from gensim.models import CoherenceModel# spaCy for preprocessing\n",
    "import spacy# Plotting tools\n",
    "import pyLDAvis\n",
    "import pyLDAvis.gensim\n",
    "import matplotlib.pyplot as plt\n",
    "%matplotlib inline\n",
    "\n",
    "nltk.download('stopwords')"
   ]
  },
  {
   "cell_type": "code",
   "execution_count": 4,
   "id": "28394f70",
   "metadata": {},
   "outputs": [],
   "source": [
    "\"\"\"Prepare stopwords\"\"\"\n",
    "\n",
    "# NLTK Stop words\n",
    "from nltk.corpus import stopwords\n",
    "stop_words = stopwords.words('english')\n",
    "stop_words.extend(['from', 'subject', 're', 'edu', 'use'])"
   ]
  },
  {
   "cell_type": "code",
   "execution_count": 6,
   "id": "92dba486",
   "metadata": {},
   "outputs": [
    {
     "name": "stdout",
     "output_type": "stream",
     "text": [
      "['rec.autos' 'comp.sys.mac.hardware' 'comp.graphics' 'sci.space'\n",
      " 'talk.politics.guns' 'sci.med' 'comp.sys.ibm.pc.hardware'\n",
      " 'comp.os.ms-windows.misc' 'rec.motorcycles' 'talk.religion.misc'\n",
      " 'misc.forsale' 'alt.atheism' 'sci.electronics' 'comp.windows.x'\n",
      " 'rec.sport.hockey' 'rec.sport.baseball' 'soc.religion.christian'\n",
      " 'talk.politics.mideast' 'talk.politics.misc' 'sci.crypt']\n"
     ]
    },
    {
     "data": {
      "text/html": [
       "<div>\n",
       "<style scoped>\n",
       "    .dataframe tbody tr th:only-of-type {\n",
       "        vertical-align: middle;\n",
       "    }\n",
       "\n",
       "    .dataframe tbody tr th {\n",
       "        vertical-align: top;\n",
       "    }\n",
       "\n",
       "    .dataframe thead th {\n",
       "        text-align: right;\n",
       "    }\n",
       "</style>\n",
       "<table border=\"1\" class=\"dataframe\">\n",
       "  <thead>\n",
       "    <tr style=\"text-align: right;\">\n",
       "      <th></th>\n",
       "      <th>content</th>\n",
       "      <th>target</th>\n",
       "      <th>target_names</th>\n",
       "    </tr>\n",
       "  </thead>\n",
       "  <tbody>\n",
       "    <tr>\n",
       "      <th>0</th>\n",
       "      <td>From: lerxst@wam.umd.edu (where's my thing)\\nS...</td>\n",
       "      <td>7</td>\n",
       "      <td>rec.autos</td>\n",
       "    </tr>\n",
       "    <tr>\n",
       "      <th>1</th>\n",
       "      <td>From: guykuo@carson.u.washington.edu (Guy Kuo)...</td>\n",
       "      <td>4</td>\n",
       "      <td>comp.sys.mac.hardware</td>\n",
       "    </tr>\n",
       "    <tr>\n",
       "      <th>2</th>\n",
       "      <td>From: twillis@ec.ecn.purdue.edu (Thomas E Will...</td>\n",
       "      <td>4</td>\n",
       "      <td>comp.sys.mac.hardware</td>\n",
       "    </tr>\n",
       "    <tr>\n",
       "      <th>3</th>\n",
       "      <td>From: jgreen@amber (Joe Green)\\nSubject: Re: W...</td>\n",
       "      <td>1</td>\n",
       "      <td>comp.graphics</td>\n",
       "    </tr>\n",
       "    <tr>\n",
       "      <th>4</th>\n",
       "      <td>From: jcm@head-cfa.harvard.edu (Jonathan McDow...</td>\n",
       "      <td>14</td>\n",
       "      <td>sci.space</td>\n",
       "    </tr>\n",
       "  </tbody>\n",
       "</table>\n",
       "</div>"
      ],
      "text/plain": [
       "                                             content  target  \\\n",
       "0  From: lerxst@wam.umd.edu (where's my thing)\\nS...       7   \n",
       "1  From: guykuo@carson.u.washington.edu (Guy Kuo)...       4   \n",
       "2  From: twillis@ec.ecn.purdue.edu (Thomas E Will...       4   \n",
       "3  From: jgreen@amber (Joe Green)\\nSubject: Re: W...       1   \n",
       "4  From: jcm@head-cfa.harvard.edu (Jonathan McDow...      14   \n",
       "\n",
       "            target_names  \n",
       "0              rec.autos  \n",
       "1  comp.sys.mac.hardware  \n",
       "2  comp.sys.mac.hardware  \n",
       "3          comp.graphics  \n",
       "4              sci.space  "
      ]
     },
     "execution_count": 6,
     "metadata": {},
     "output_type": "execute_result"
    }
   ],
   "source": [
    "\"\"\"Load dataset\"\"\"\n",
    "# LoadDataset\n",
    "df=pd.read_json('https://raw.githubusercontent.com/selva86/datasets/master/newsgroups.json')\n",
    "print(df.target_names.unique())\n",
    "df.head()"
   ]
  },
  {
   "cell_type": "code",
   "execution_count": 7,
   "id": "83837dd4",
   "metadata": {},
   "outputs": [
    {
     "name": "stderr",
     "output_type": "stream",
     "text": [
      "<>:5: DeprecationWarning: invalid escape sequence '\\S'\n",
      "<>:7: DeprecationWarning: invalid escape sequence '\\s'\n",
      "<>:5: DeprecationWarning: invalid escape sequence '\\S'\n",
      "<>:7: DeprecationWarning: invalid escape sequence '\\s'\n",
      "/tmp/ipykernel_1682191/79846275.py:5: DeprecationWarning: invalid escape sequence '\\S'\n",
      "  data = [re.sub('\\S*@\\S*\\s?', '', sent) for sent in data]\n",
      "/tmp/ipykernel_1682191/79846275.py:7: DeprecationWarning: invalid escape sequence '\\s'\n",
      "  data = [re.sub('\\s+', ' ', sent) for sent in data]\n"
     ]
    },
    {
     "name": "stdout",
     "output_type": "stream",
     "text": [
      "['From: (wheres my thing) Subject: WHAT car is this!? Nntp-Posting-Host: '\n",
      " 'rac3.wam.umd.edu Organization: University of Maryland, College Park Lines: '\n",
      " '15 I was wondering if anyone out there could enlighten me on this car I saw '\n",
      " 'the other day. It was a 2-door sports car, looked to be from the late 60s/ '\n",
      " 'early 70s. It was called a Bricklin. The doors were really small. In '\n",
      " 'addition, the front bumper was separate from the rest of the body. This is '\n",
      " 'all I know. If anyone can tellme a model name, engine specs, years of '\n",
      " 'production, where this car is made, history, or whatever info you have on '\n",
      " 'this funky looking car, please e-mail. Thanks, - IL ---- brought to you by '\n",
      " 'your neighborhood Lerxst ---- ']\n"
     ]
    }
   ],
   "source": [
    "\"\"\"Data cleaning:  Remove emails and newlines\"\"\"\n",
    "# Convert to list \n",
    "data = df.content.values.tolist()  \n",
    "# Remove Emails \n",
    "data = [re.sub('\\S*@\\S*\\s?', '', sent) for sent in data]  \n",
    "# Remove new line characters \n",
    "data = [re.sub('\\s+', ' ', sent) for sent in data]  \n",
    "# Remove distracting single quotes \n",
    "data = [re.sub(\"\\'\", \"\", sent) for sent in data]  \n",
    "pprint(data[:1])"
   ]
  },
  {
   "cell_type": "code",
   "execution_count": 8,
   "id": "5e4e7fa0",
   "metadata": {},
   "outputs": [
    {
     "name": "stdout",
     "output_type": "stream",
     "text": [
      "[['from', 'wheres', 'my', 'thing', 'subject', 'what', 'car', 'is', 'this', 'nntp', 'posting', 'host', 'rac', 'wam', 'umd', 'edu', 'organization', 'university', 'of', 'maryland', 'college', 'park', 'lines', 'was', 'wondering', 'if', 'anyone', 'out', 'there', 'could', 'enlighten', 'me', 'on', 'this', 'car', 'saw', 'the', 'other', 'day', 'it', 'was', 'door', 'sports', 'car', 'looked', 'to', 'be', 'from', 'the', 'late', 'early', 'it', 'was', 'called', 'bricklin', 'the', 'doors', 'were', 'really', 'small', 'in', 'addition', 'the', 'front', 'bumper', 'was', 'separate', 'from', 'the', 'rest', 'of', 'the', 'body', 'this', 'is', 'all', 'know', 'if', 'anyone', 'can', 'tellme', 'model', 'name', 'engine', 'specs', 'years', 'of', 'production', 'where', 'this', 'car', 'is', 'made', 'history', 'or', 'whatever', 'info', 'you', 'have', 'on', 'this', 'funky', 'looking', 'car', 'please', 'mail', 'thanks', 'il', 'brought', 'to', 'you', 'by', 'your', 'neighborhood', 'lerxst']]\n"
     ]
    }
   ],
   "source": [
    "\"\"\"Tokenization and cleaning up text\"\"\"\n",
    "def sent_to_words(sentences):\n",
    "  for sentence in sentences:\n",
    "    yield(gensim.utils.simple_preprocess(str(sentence), deacc=True))            #deacc=True removes punctuations\n",
    "data_words = list(sent_to_words(data))\n",
    "print(data_words[:1])"
   ]
  },
  {
   "cell_type": "code",
   "execution_count": 9,
   "id": "35665cb8",
   "metadata": {},
   "outputs": [
    {
     "name": "stdout",
     "output_type": "stream",
     "text": [
      "['from', 'wheres', 'my', 'thing', 'subject', 'what', 'car', 'is', 'this', 'nntp_posting_host', 'rac_wam_umd_edu', 'organization', 'university', 'of', 'maryland_college_park', 'lines', 'was', 'wondering', 'if', 'anyone', 'out', 'there', 'could', 'enlighten', 'me', 'on', 'this', 'car', 'saw', 'the', 'other', 'day', 'it', 'was', 'door', 'sports', 'car', 'looked', 'to', 'be', 'from', 'the', 'late', 'early', 'it', 'was', 'called', 'bricklin', 'the', 'doors', 'were', 'really', 'small', 'in', 'addition', 'the', 'front_bumper', 'was', 'separate', 'from', 'the', 'rest', 'of', 'the', 'body', 'this', 'is', 'all', 'know', 'if', 'anyone', 'can', 'tellme', 'model', 'name', 'engine', 'specs', 'years', 'of', 'production', 'where', 'this', 'car', 'is', 'made', 'history', 'or', 'whatever', 'info', 'you', 'have', 'on', 'this', 'funky', 'looking', 'car', 'please', 'mail', 'thanks', 'il', 'brought', 'to', 'you', 'by', 'your', 'neighborhood', 'lerxst']\n"
     ]
    }
   ],
   "source": [
    "# Build the bigram and trigram models\n",
    "bigram = gensim.models.Phrases(data_words, min_count=5, threshold=100) # higher threshold fewer phrases.\n",
    "trigram = gensim.models.Phrases(bigram[data_words], threshold=100)\n",
    "# Faster way to get a sentence clubbed as a trigram/bigram\n",
    "bigram_mod = gensim.models.phrases.Phraser(bigram)\n",
    "trigram_mod = gensim.models.phrases.Phraser(trigram)\n",
    "# See trigram example\n",
    "print(trigram_mod[bigram_mod[data_words[0]]])"
   ]
  },
  {
   "cell_type": "code",
   "execution_count": 10,
   "id": "2ecd836b",
   "metadata": {},
   "outputs": [],
   "source": [
    "\"\"\"Remove stopwords, make bigrams, lemmatize\"\"\"\n",
    "# Define function for stopwords, bigrams, trigrams and lemmatization\n",
    "def remove_stopwords(texts):\n",
    "    return [[word for word in simple_preprocess(str(doc)) if word not in stop_words] for doc in texts]\n",
    "\n",
    "def make_bigrams(texts):\n",
    "    return [bigram_mod[doc] for doc in texts]\n",
    "\n",
    "def make_trigrams(texts):\n",
    "    return [trigram_mod[bigram_mod[doc]] for doc in texts]\n",
    "\n",
    "def lemmatization(texts, allowed_postags=['NOUN', 'ADJ', 'VERB', 'ADV']):\n",
    "    \"\"\"https://spacy.io/api/annotation\"\"\"\n",
    "    texts_out = []\n",
    "    for sent in texts:\n",
    "        doc = nlp(\" \".join(sent)) \n",
    "        texts_out.append([token.lemma_ for token in doc if token.pos_ in allowed_postags])\n",
    "    return texts_out"
   ]
  },
  {
   "cell_type": "code",
   "execution_count": 12,
   "id": "abf080ec",
   "metadata": {},
   "outputs": [
    {
     "name": "stdout",
     "output_type": "stream",
     "text": [
      "[['s', 'thing', 'car', 'nntp_poste', 'host', 'rac_wam', 'university', 'park', 'line', 'wonder', 'enlighten', 'car', 'see', 'day', 'door', 'sport', 'car', 'look', 'late', 'early', 'call', 'door', 'really', 'small', 'addition', 'separate', 'rest', 'body', 'know', 'model', 'name', 'engine', 'spec', 'year', 'production', 'car', 'make', 'history', 'info', 'funky', 'look', 'car', 'mail', 'thank', 'bring', 'neighborhood', 'lerxst']]\n"
     ]
    }
   ],
   "source": [
    "# Remove Stop Words\n",
    "data_words_nostops = remove_stopwords(data_words)\n",
    "\n",
    "# Form Bigrams\n",
    "data_words_bigrams = make_bigrams(data_words_nostops)\n",
    "\n",
    "# Initialize spacy 'en' model, keeping only tagger component (for efficiency)\n",
    "# python3 -m spacy download en\n",
    "nlp = spacy.load('en_core_web_sm', disable=['parser', 'ner'])\n",
    "\n",
    "# Do lemmatization keeping only noun, adj, vb, adv\n",
    "data_lemmatized = lemmatization(data_words_bigrams, allowed_postags=['NOUN', 'ADJ', 'VERB', 'ADV'])\n",
    "\n",
    "print(data_lemmatized[:1])"
   ]
  },
  {
   "cell_type": "code",
   "execution_count": 13,
   "id": "1672f038",
   "metadata": {},
   "outputs": [
    {
     "name": "stdout",
     "output_type": "stream",
     "text": [
      "[[(0, 1), (1, 1), (2, 1), (3, 1), (4, 5), (5, 1), (6, 2), (7, 1), (8, 1), (9, 1), (10, 1), (11, 1), (12, 1), (13, 1), (14, 1), (15, 1), (16, 1), (17, 1), (18, 2), (19, 1), (20, 1), (21, 1), (22, 1), (23, 1), (24, 1), (25, 1), (26, 1), (27, 1), (28, 1), (29, 1), (30, 1), (31, 1), (32, 1), (33, 1), (34, 1), (35, 1), (36, 1), (37, 1), (38, 1), (39, 1), (40, 1)]]\n"
     ]
    }
   ],
   "source": [
    "# Create Dictionary \n",
    "id2word = corpora.Dictionary(data_lemmatized)  \n",
    "# Create Corpus \n",
    "texts = data_lemmatized  \n",
    "# Term Document Frequency \n",
    "corpus = [id2word.doc2bow(text) for text in texts]  \n",
    "# View \n",
    "print(corpus[:1])"
   ]
  },
  {
   "cell_type": "code",
   "execution_count": 14,
   "id": "1103d53b",
   "metadata": {},
   "outputs": [
    {
     "data": {
      "text/plain": [
       "[[('addition', 1),\n",
       "  ('body', 1),\n",
       "  ('bring', 1),\n",
       "  ('call', 1),\n",
       "  ('car', 5),\n",
       "  ('day', 1),\n",
       "  ('door', 2),\n",
       "  ('early', 1),\n",
       "  ('engine', 1),\n",
       "  ('enlighten', 1),\n",
       "  ('funky', 1),\n",
       "  ('history', 1),\n",
       "  ('host', 1),\n",
       "  ('info', 1),\n",
       "  ('know', 1),\n",
       "  ('late', 1),\n",
       "  ('lerxst', 1),\n",
       "  ('line', 1),\n",
       "  ('look', 2),\n",
       "  ('mail', 1),\n",
       "  ('make', 1),\n",
       "  ('model', 1),\n",
       "  ('name', 1),\n",
       "  ('neighborhood', 1),\n",
       "  ('nntp_poste', 1),\n",
       "  ('park', 1),\n",
       "  ('production', 1),\n",
       "  ('rac_wam', 1),\n",
       "  ('really', 1),\n",
       "  ('rest', 1),\n",
       "  ('s', 1),\n",
       "  ('see', 1),\n",
       "  ('separate', 1),\n",
       "  ('small', 1),\n",
       "  ('spec', 1),\n",
       "  ('sport', 1),\n",
       "  ('thank', 1),\n",
       "  ('thing', 1),\n",
       "  ('university', 1),\n",
       "  ('wonder', 1),\n",
       "  ('year', 1)]]"
      ]
     },
     "execution_count": 14,
     "metadata": {},
     "output_type": "execute_result"
    }
   ],
   "source": [
    "\"\"\"Readable dictionary\"\"\"\n",
    "[[(id2word[id], freq) for id, freq in cp] for cp in corpus[:1]]"
   ]
  },
  {
   "cell_type": "code",
   "execution_count": 15,
   "id": "4bd81379",
   "metadata": {},
   "outputs": [],
   "source": [
    "\"\"\"Build topic model\"\"\"\n",
    "lda_model = gensim.models.ldamodel.LdaModel(corpus=corpus,\n",
    "                                           id2word=id2word,\n",
    "                                           num_topics=20, \n",
    "                                           random_state=100,\n",
    "                                           update_every=1,\n",
    "                                           chunksize=100,\n",
    "                                           passes=10,\n",
    "                                           alpha='auto',\n",
    "                                           per_word_topics=True)"
   ]
  },
  {
   "cell_type": "code",
   "execution_count": 16,
   "id": "4a2f4c3a",
   "metadata": {},
   "outputs": [
    {
     "name": "stdout",
     "output_type": "stream",
     "text": [
      "[(0,\n",
      "  '0.021*\"research\" + 0.019*\"information\" + 0.019*\"high\" + 0.019*\"report\" + '\n",
      "  '0.018*\"player\" + 0.016*\"service\" + 0.015*\"rate\" + 0.014*\"design\" + '\n",
      "  '0.013*\"season\" + 0.012*\"low\"'),\n",
      " (1,\n",
      "  '0.077*\"team\" + 0.072*\"game\" + 0.053*\"play\" + 0.050*\"faith\" + 0.049*\"win\" + '\n",
      "  '0.031*\"belief\" + 0.025*\"atheist\" + 0.025*\"year\" + 0.018*\"wing\" + '\n",
      "  '0.018*\"score\"'),\n",
      " (2,\n",
      "  '0.106*\"space\" + 0.029*\"notice\" + 0.029*\"launch\" + 0.026*\"earth\" + '\n",
      "  '0.024*\"mission\" + 0.024*\"orbit\" + 0.023*\"external\" + 0.020*\"vehicle\" + '\n",
      "  '0.019*\"satellite\" + 0.019*\"door\"'),\n",
      " (3,\n",
      "  '0.022*\"say\" + 0.019*\"people\" + 0.017*\"reason\" + 0.017*\"believe\" + '\n",
      "  '0.015*\"evidence\" + 0.014*\"mean\" + 0.012*\"point\" + 0.012*\"question\" + '\n",
      "  '0.011*\"many\" + 0.010*\"claim\"'),\n",
      " (4,\n",
      "  '0.078*\"book\" + 0.044*\"science\" + 0.042*\"reference\" + 0.036*\"pin\" + '\n",
      "  '0.032*\"section\" + 0.025*\"faq\" + 0.024*\"author\" + 0.023*\"copy\" + '\n",
      "  '0.023*\"reality\" + 0.022*\"internal\"'),\n",
      " (5,\n",
      "  '0.065*\"cost\" + 0.059*\"model\" + 0.039*\"character\" + 0.036*\"picture\" + '\n",
      "  '0.036*\"format\" + 0.032*\"quality\" + 0.032*\"associate\" + 0.028*\"handle\" + '\n",
      "  '0.023*\"hole\" + 0.023*\"gift\"'),\n",
      " (6,\n",
      "  '0.032*\"system\" + 0.028*\"use\" + 0.024*\"program\" + 0.023*\"file\" + '\n",
      "  '0.018*\"card\" + 0.016*\"run\" + 0.014*\"software\" + 0.014*\"bit\" + '\n",
      "  '0.013*\"machine\" + 0.013*\"problem\"'),\n",
      " (7,\n",
      "  '0.092*\"moral\" + 0.056*\"property\" + 0.045*\"serial\" + 0.036*\"lock\" + '\n",
      "  '0.022*\"positively\" + 0.021*\"intent\" + 0.018*\"alarm\" + 0.012*\"converter\" + '\n",
      "  '0.011*\"unnecessary\" + 0.007*\"provision\"'),\n",
      " (8,\n",
      "  '0.249*\"window\" + 0.057*\"monitor\" + 0.055*\"normal\" + 0.041*\"do\" + '\n",
      "  '0.032*\"font\" + 0.023*\"left\" + 0.020*\"widget\" + 0.019*\"please_respond\" + '\n",
      "  '0.017*\"environment\" + 0.017*\"trivial\"'),\n",
      " (9,\n",
      "  '0.061*\"child\" + 0.028*\"church\" + 0.027*\"woman\" + 0.025*\"armenian\" + '\n",
      "  '0.022*\"authority\" + 0.020*\"community\" + 0.019*\"greek\" + 0.017*\"period\" + '\n",
      "  '0.017*\"turk\" + 0.016*\"soldier\"'),\n",
      " (10,\n",
      "  '0.765*\"ax\" + 0.035*\"physical\" + 0.024*\"graphic\" + 0.014*\"direct\" + '\n",
      "  '0.011*\"convert\" + 0.006*\"daughter\" + 0.006*\"capture\" + 0.005*\"human_being\" '\n",
      "  '+ 0.004*\"split\" + 0.003*\"accomplish\"'),\n",
      " (11,\n",
      "  '0.130*\"line\" + 0.076*\"organization\" + 0.074*\"write\" + 0.063*\"article\" + '\n",
      "  '0.056*\"nntp_poste\" + 0.050*\"host\" + 0.029*\"reply\" + 0.024*\"thank\" + '\n",
      "  '0.018*\"university\" + 0.013*\"post\"'),\n",
      " (12,\n",
      "  '0.072*\"plane\" + 0.030*\"hi\" + 0.021*\"subscription\" + 0.020*\"steve\" + '\n",
      "  '0.015*\"divide\" + 0.011*\"evolve\" + 0.010*\"intersection\" + 0.010*\"rip\" + '\n",
      "  '0.008*\"upcoming\" + 0.007*\"script\"'),\n",
      " (13,\n",
      "  '0.031*\"people\" + 0.028*\"state\" + 0.018*\"gun\" + 0.017*\"government\" + '\n",
      "  '0.017*\"law\" + 0.016*\"right\" + 0.015*\"kill\" + 0.013*\"death\" + 0.011*\"live\" + '\n",
      "  '0.011*\"force\"'),\n",
      " (14,\n",
      "  '0.141*\"drug\" + 0.029*\"film\" + 0.026*\"movie\" + 0.025*\"stereo\" + '\n",
      "  '0.024*\"japanese\" + 0.022*\"deficit\" + 0.020*\"plot\" + 0.014*\"mad\" + '\n",
      "  '0.009*\"harley\" + 0.007*\"deck\"'),\n",
      " (15,\n",
      "  '0.061*\"box\" + 0.050*\"club\" + 0.041*\"modem\" + 0.041*\"status\" + '\n",
      "  '0.030*\"primary\" + 0.029*\"routine\" + 0.029*\"spec\" + 0.026*\"sufficient\" + '\n",
      "  '0.023*\"public_access\" + 0.023*\"automatically\"'),\n",
      " (16,\n",
      "  '0.152*\"drive\" + 0.091*\"car\" + 0.036*\"bike\" + 0.024*\"engine\" + 0.023*\"nhl\" + '\n",
      "  '0.022*\"ride\" + 0.018*\"road\" + 0.017*\"weight\" + 0.016*\"mile\" + '\n",
      "  '0.015*\"ground\"'),\n",
      " (17,\n",
      "  '0.113*\"patient\" + 0.060*\"disease\" + 0.054*\"scientific\" + '\n",
      "  '0.050*\"computer_science\" + 0.043*\"animal\" + 0.041*\"health\" + '\n",
      "  '0.040*\"treatment\" + 0.037*\"medical\" + 0.033*\"dog\" + 0.030*\"study\"'),\n",
      " (18,\n",
      "  '0.023*\"get\" + 0.018*\"go\" + 0.015*\"good\" + 0.015*\"time\" + 0.015*\"know\" + '\n",
      "  '0.014*\"make\" + 0.013*\"well\" + 0.013*\"think\" + 0.012*\"see\" + 0.010*\"take\"'),\n",
      " (19,\n",
      "  '0.106*\"key\" + 0.043*\"test\" + 0.032*\"public\" + 0.031*\"encryption\" + '\n",
      "  '0.028*\"security\" + 0.028*\"server\" + 0.022*\"clipper\" + 0.021*\"chip\" + '\n",
      "  '0.018*\"secure\" + 0.018*\"message\"')]\n"
     ]
    }
   ],
   "source": [
    "# Print the keyword of topics\n",
    "pprint(lda_model.print_topics())\n",
    "doc_lda = lda_model[corpus]"
   ]
  },
  {
   "cell_type": "code",
   "execution_count": 17,
   "id": "679011e2",
   "metadata": {},
   "outputs": [
    {
     "name": "stdout",
     "output_type": "stream",
     "text": [
      "\n",
      "Perplexity:  -13.324613280268952\n",
      "\n",
      "Coherence Score:  0.483541481988623\n"
     ]
    }
   ],
   "source": [
    "\"\"\"Evaluate topic models\"\"\"\n",
    "# Compute Perplexity\n",
    "print('\\nPerplexity: ', lda_model.log_perplexity(corpus))  \n",
    "# a measure of how good the model is. lower the better.\n",
    "\n",
    "# Compute Coherence Score\n",
    "coherence_model_lda = CoherenceModel(model=lda_model, texts=data_lemmatized, dictionary=id2word, coherence='c_v')\n",
    "coherence_lda = coherence_model_lda.get_coherence()\n",
    "print('\\nCoherence Score: ', coherence_lda)"
   ]
  },
  {
   "cell_type": "code",
   "execution_count": 18,
   "id": "3a59449b",
   "metadata": {},
   "outputs": [
    {
     "name": "stderr",
     "output_type": "stream",
     "text": [
      "/home/jcm/.local/lib/python3.10/site-packages/pyLDAvis/_prepare.py:9: DeprecationWarning: \n",
      "Pyarrow will become a required dependency of pandas in the next major release of pandas (pandas 3.0),\n",
      "(to allow more performant data types, such as the Arrow string type, and better interoperability with other libraries)\n",
      "but was not found to be installed on your system.\n",
      "If this would cause problems for you,\n",
      "please provide us feedback at https://github.com/pandas-dev/pandas/issues/54466\n",
      "        \n",
      "  import pandas as pd\n",
      "/home/jcm/.local/lib/python3.10/site-packages/pyLDAvis/_prepare.py:9: DeprecationWarning: \n",
      "Pyarrow will become a required dependency of pandas in the next major release of pandas (pandas 3.0),\n",
      "(to allow more performant data types, such as the Arrow string type, and better interoperability with other libraries)\n",
      "but was not found to be installed on your system.\n",
      "If this would cause problems for you,\n",
      "please provide us feedback at https://github.com/pandas-dev/pandas/issues/54466\n",
      "        \n",
      "  import pandas as pd\n",
      "/home/jcm/.local/lib/python3.10/site-packages/pyLDAvis/_prepare.py:9: DeprecationWarning: \n",
      "Pyarrow will become a required dependency of pandas in the next major release of pandas (pandas 3.0),\n",
      "(to allow more performant data types, such as the Arrow string type, and better interoperability with other libraries)\n",
      "but was not found to be installed on your system.\n",
      "If this would cause problems for you,\n",
      "please provide us feedback at https://github.com/pandas-dev/pandas/issues/54466\n",
      "        \n",
      "  import pandas as pd\n",
      "/home/jcm/.local/lib/python3.10/site-packages/pyLDAvis/_prepare.py:9: DeprecationWarning: \n",
      "Pyarrow will become a required dependency of pandas in the next major release of pandas (pandas 3.0),\n",
      "(to allow more performant data types, such as the Arrow string type, and better interoperability with other libraries)\n",
      "but was not found to be installed on your system.\n",
      "If this would cause problems for you,\n",
      "please provide us feedback at https://github.com/pandas-dev/pandas/issues/54466\n",
      "        \n",
      "  import pandas as pd\n",
      "/home/jcm/.local/lib/python3.10/site-packages/pyLDAvis/_prepare.py:9: DeprecationWarning: \n",
      "Pyarrow will become a required dependency of pandas in the next major release of pandas (pandas 3.0),\n",
      "(to allow more performant data types, such as the Arrow string type, and better interoperability with other libraries)\n",
      "but was not found to be installed on your system.\n",
      "If this would cause problems for you,\n",
      "please provide us feedback at https://github.com/pandas-dev/pandas/issues/54466\n",
      "        \n",
      "  import pandas as pd\n",
      "/home/jcm/.local/lib/python3.10/site-packages/pyLDAvis/_prepare.py:9: DeprecationWarning: \n",
      "Pyarrow will become a required dependency of pandas in the next major release of pandas (pandas 3.0),\n",
      "(to allow more performant data types, such as the Arrow string type, and better interoperability with other libraries)\n",
      "but was not found to be installed on your system.\n",
      "If this would cause problems for you,\n",
      "please provide us feedback at https://github.com/pandas-dev/pandas/issues/54466\n",
      "        \n",
      "  import pandas as pd\n",
      "/home/jcm/.local/lib/python3.10/site-packages/pyLDAvis/_prepare.py:9: DeprecationWarning: \n",
      "Pyarrow will become a required dependency of pandas in the next major release of pandas (pandas 3.0),\n",
      "(to allow more performant data types, such as the Arrow string type, and better interoperability with other libraries)\n",
      "but was not found to be installed on your system.\n",
      "If this would cause problems for you,\n",
      "please provide us feedback at https://github.com/pandas-dev/pandas/issues/54466\n",
      "        \n",
      "  import pandas as pd\n",
      "/home/jcm/.local/lib/python3.10/site-packages/pyLDAvis/_prepare.py:9: DeprecationWarning: \n",
      "Pyarrow will become a required dependency of pandas in the next major release of pandas (pandas 3.0),\n",
      "(to allow more performant data types, such as the Arrow string type, and better interoperability with other libraries)\n",
      "but was not found to be installed on your system.\n",
      "If this would cause problems for you,\n",
      "please provide us feedback at https://github.com/pandas-dev/pandas/issues/54466\n",
      "        \n",
      "  import pandas as pd\n"
     ]
    },
    {
     "data": {
      "text/html": [
       "\n",
       "<link rel=\"stylesheet\" type=\"text/css\" href=\"https://cdn.jsdelivr.net/gh/bmabey/pyLDAvis@3.4.0/pyLDAvis/js/ldavis.v1.0.0.css\">\n",
       "\n",
       "\n",
       "<div id=\"ldavis_el16821911397067052476165277981608\" style=\"background-color:white;\"></div>\n",
       "<script type=\"text/javascript\">\n",
       "\n",
       "var ldavis_el16821911397067052476165277981608_data = {\"mdsDat\": {\"x\": [0.3365242739579136, 0.3169286950085371, 0.21678729580519915, 0.24709290154889207, 0.18410384289419918, -0.0193018109747545, 0.1539115120212822, -0.008544367527559965, 0.0069226144664716075, 0.038373362303716144, -0.03756216891814181, -0.04603262891909436, -0.08190641148010698, -0.11857971654870546, -0.1626832960859324, -0.1759439486184219, -0.20425907107556107, -0.21220188279513627, -0.2140819491054913, -0.21954724595730477], \"y\": [-0.053704087840507, -0.11889499778938552, 0.2852400957886558, 0.167003941582352, -0.27965173975514945, 0.03963301975006786, 0.02796861377680929, -0.11770863701502575, -0.062098966292464634, 0.06949773853322366, 0.037035849916013615, -0.03808341047162131, 0.028033991234559876, 0.023843444885232667, 0.013122491220397882, -0.007814799246320416, -0.0017734790534563278, -0.00325882098411838, -0.003627371269395728, -0.004762876969868911], \"topics\": [1, 2, 3, 4, 5, 6, 7, 8, 9, 10, 11, 12, 13, 14, 15, 16, 17, 18, 19, 20], \"cluster\": [1, 1, 1, 1, 1, 1, 1, 1, 1, 1, 1, 1, 1, 1, 1, 1, 1, 1, 1, 1], \"Freq\": [34.41383640413899, 15.585769129638347, 9.18166994098554, 9.11082275921672, 7.614050794147774, 5.3919385679681415, 5.120545175314175, 2.1405182136284173, 2.0656131267149442, 1.8479563121956741, 1.7323125102982944, 1.6068738626448194, 1.2374919775424342, 1.1442773939771689, 0.6192253638831653, 0.43367458145702703, 0.2948529604063434, 0.2004500103109643, 0.15895485171021237, 0.09916606382085202]}, \"tinfo\": {\"Term\": [\"ax\", \"line\", \"write\", \"organization\", \"article\", \"nntp_poste\", \"host\", \"drive\", \"people\", \"year\", \"window\", \"key\", \"system\", \"do\", \"get\", \"use\", \"go\", \"car\", \"say\", \"team\", \"reply\", \"game\", \"space\", \"book\", \"state\", \"physical\", \"thank\", \"run\", \"time\", \"child\", \"go\", \"s\", \"ve\", \"back\", \"long\", \"re\", \"start\", \"bad\", \"still\", \"hear\", \"little\", \"lot\", \"probably\", \"put\", \"big\", \"maybe\", \"money\", \"remember\", \"week\", \"hard\", \"ill\", \"home\", \"move\", \"guess\", \"couple\", \"pretty\", \"cheap\", \"guy\", \"school\", \"soon\", \"time\", \"good\", \"really\", \"end\", \"day\", \"get\", \"great\", \"much\", \"let\", \"well\", \"sure\", \"take\", \"first\", \"want\", \"come\", \"see\", \"know\", \"make\", \"think\", \"tell\", \"m\", \"try\", \"work\", \"year\", \"look\", \"way\", \"say\", \"thing\", \"give\", \"also\", \"write\", \"even\", \"reason\", \"believe\", \"evidence\", \"claim\", \"talk\", \"sense\", \"true\", \"word\", \"rule\", \"matter\", \"argument\", \"religion\", \"love\", \"accept\", \"understand\", \"explain\", \"god\", \"prove\", \"speak\", \"discussion\", \"truth\", \"clear\", \"purpose\", \"certainly\", \"statement\", \"christian\", \"master\", \"indeed\", \"doubt\", \"therefore\", \"religious\", \"human\", \"exist\", \"apply\", \"mean\", \"life\", \"fact\", \"view\", \"rather\", \"question\", \"say\", \"point\", \"however\", \"people\", \"case\", \"many\", \"group\", \"man\", \"agree\", \"follow\", \"example\", \"issue\", \"world\", \"think\", \"make\", \"different\", \"read\", \"thing\", \"write\", \"also\", \"nntp_poste\", \"host\", \"thank\", \"university\", \"price\", \"com\", \"sale\", \"internet\", \"cpu\", \"appreciate\", \"bus\", \"version_pl\", \"controller\", \"originator\", \"printer\", \"apr\", \"upgrade\", \"corporation\", \"resource\", \"crash\", \"cycle\", \"northern\", \"bio\", \"ram\", \"opinions_expresse\", \"clock\", \"laboratory\", \"cool\", \"bug\", \"floppy\", \"reply\", \"organization\", \"line\", \"keyword\", \"interested\", \"sell\", \"distribution_world\", \"article\", \"dealer\", \"write\", \"buy\", \"phone\", \"mail\", \"post\", \"email\", \"help\", \"technology\", \"need\", \"new\", \"m\", \"message\", \"question\", \"look\", \"use\", \"know\", \"file\", \"software\", \"machine\", \"code\", \"entry\", \"version\", \"memory\", \"hardware\", \"screen\", \"disk\", \"mode\", \"pc\", \"video\", \"display\", \"device\", \"fax\", \"package\", \"scan\", \"scsi\", \"port\", \"apple\", \"ide\", \"mhz\", \"gateway\", \"mac\", \"manager\", \"mouse\", \"unix\", \"directory\", \"interface\", \"card\", \"program\", \"input\", \"image\", \"instal\", \"driver\", \"user\", \"application\", \"system\", \"type\", \"available\", \"address\", \"bit\", \"use\", \"run\", \"set\", \"computer\", \"source\", \"include\", \"support\", \"problem\", \"work\", \"also\", \"chip\", \"need\", \"gun\", \"kill\", \"death\", \"force\", \"die\", \"country\", \"member\", \"israeli\", \"war\", \"risk\", \"publish\", \"city\", \"crime\", \"state\", \"serious\", \"military\", \"police\", \"weapon\", \"land\", \"headache\", \"convince\", \"firearm\", \"proof\", \"trial\", \"blank\", \"library\", \"arab\", \"doctor\", \"occupy\", \"withdraw\", \"jewish\", \"fight\", \"suggest\", \"attack\", \"law\", \"government\", \"fire\", \"meet\", \"self\", \"field\", \"people\", \"murder\", \"live\", \"right\", \"public\", \"black\", \"carry\", \"conclusion\", \"ax\", \"physical\", \"graphic\", \"direct\", \"convert\", \"daughter\", \"capture\", \"human_being\", \"split\", \"accomplish\", \"pp\", \"discount\", \"tour\", \"applicable\", \"good_luck\", \"sister\", \"shareware\", \"genesis\", \"sabbath\", \"ceremonial\", \"tc\", \"oracle\", \"seventh\", \"workshop\", \"birthday\", \"everytime\", \"moral_agency\", \"max\", \"ei\", \"fq\", \"part\", \"end\", \"research\", \"player\", \"season\", \"tape\", \"goal\", \"trade\", \"national\", \"family\", \"possibility\", \"unit\", \"material\", \"pen\", \"signal\", \"site\", \"technical\", \"development\", \"radio\", \"communication\", \"factor\", \"electronic\", \"operation\", \"particularly\", \"circuit\", \"dept\", \"lab\", \"surface\", \"facility\", \"cap\", \"improve\", \"blue\", \"feature\", \"service\", \"rate\", \"design\", \"report\", \"contact\", \"increase\", \"level\", \"information\", \"low\", \"high\", \"center\", \"include\", \"control\", \"year\", \"number\", \"block\", \"complete\", \"point\", \"new\", \"child\", \"church\", \"woman\", \"armenian\", \"authority\", \"greek\", \"period\", \"turk\", \"turkish\", \"terrorism\", \"boy\", \"parent\", \"united_state\", \"male\", \"muslim\", \"percent\", \"somehow\", \"violence\", \"russian\", \"inhabitant\", \"role\", \"escape\", \"unknown\", \"serdar_argic\", \"closed\", \"proceed\", \"informed\", \"investigation\", \"violate\", \"reflect\", \"community\", \"aware\", \"soldier\", \"girl\", \"young\", \"village\", \"mother\", \"today\", \"man\", \"team\", \"game\", \"play\", \"faith\", \"win\", \"belief\", \"atheist\", \"wing\", \"score\", \"revelation\", \"fan\", \"atheism\", \"average\", \"bible\", \"universe\", \"interpretation\", \"pitch\", \"canadian\", \"stat\", \"offense\", \"production\", \"passage\", \"absolute\", \"origin\", \"birth\", \"hr\", \"handgun\", \"follower\", \"danger\", \"teaching\", \"star\", \"ice\", \"division\", \"defense\", \"year\", \"lose\", \"run\", \"final\", \"hit\", \"last\", \"pick\", \"key\", \"test\", \"encryption\", \"security\", \"server\", \"clipper\", \"secure\", \"motif\", \"tap\", \"clipper_chip\", \"agency\", \"pgp\", \"rsa\", \"dual\", \"crypto\", \"privacy\", \"export\", \"detailed\", \"warrant\", \"restriction\", \"cryptography\", \"cd\", \"second_amendment\", \"assure\", \"algorithm\", \"secrecy\", \"wiretap\", \"testing\", \"distribution_inet\", \"tavare\", \"secret\", \"license\", \"proposal\", \"public\", \"private\", \"chip\", \"message\", \"government\", \"technology\", \"use\", \"system\", \"information\", \"bit\", \"phone\", \"drive\", \"car\", \"bike\", \"engine\", \"nhl\", \"ride\", \"weight\", \"mile\", \"though\", \"rider\", \"auto\", \"oil\", \"quick\", \"noise\", \"travel\", \"corner\", \"spacecraft\", \"essentially\", \"wiring\", \"gear\", \"wind\", \"tire\", \"combination\", \"lift\", \"strip\", \"highway\", \"suitable\", \"sensor\", \"paint\", \"dirty\", \"road\", \"ground\", \"mirror\", \"light\", \"speed\", \"fast\", \"sport\", \"power\", \"front\", \"driver\", \"science\", \"reference\", \"pin\", \"section\", \"faq\", \"author\", \"internal\", \"object\", \"concept\", \"transfer\", \"processor\", \"generate\", \"cable\", \"gmt\", \"language\", \"blind\", \"description\", \"expansion\", \"modify\", \"connector\", \"radiation\", \"enable\", \"typically\", \"qualified\", \"button\", \"presence\", \"extension\", \"phase\", \"responce\", \"observe\", \"book\", \"panel\", \"reality\", \"define\", \"obtain\", \"copy\", \"operate\", \"describe\", \"cover\", \"function\", \"remove\", \"space\", \"notice\", \"launch\", \"mission\", \"orbit\", \"external\", \"vehicle\", \"satellite\", \"door\", \"moon\", \"flight\", \"rocket\", \"saturn\", \"planet\", \"energy\", \"fuel\", \"sky\", \"shuttle\", \"mar\", \"lunar\", \"park\", \"mph\", \"solar\", \"space_station\", \"ozone\", \"crew\", \"thermal\", \"environmental\", \"giant\", \"cbr\", \"earth\", \"observation\", \"environment\", \"cost\", \"fly\", \"model\", \"character\", \"picture\", \"format\", \"quality\", \"associate\", \"handle\", \"hole\", \"gift\", \"insurance\", \"excuse\", \"popular\", \"draft\", \"morality\", \"solid\", \"pub\", \"scale\", \"depth\", \"fee\", \"programmer\", \"hunt\", \"translate\", \"meter\", \"import\", \"runner\", \"sc\", \"leadership\", \"scare\", \"fish\", \"variation\", \"cost\", \"type\", \"license\", \"window\", \"monitor\", \"normal\", \"font\", \"left\", \"widget\", \"please_respond\", \"trivial\", \"impressive\", \"click\", \"upper\", \"publisher\", \"ms_window\", \"hassle\", \"dialog\", \"visualization\", \"judaism\", \"user_interface\", \"accessible\", \"enhanced_mode\", \"environment\", \"vendor\", \"do\", \"application\", \"routine\", \"size\", \"correctly\", \"value\", \"color\", \"window_manag\", \"create\", \"top\", \"position\", \"patient\", \"disease\", \"scientific\", \"computer_science\", \"animal\", \"health\", \"medical\", \"dog\", \"medicine\", \"luck\", \"km\", \"cure\", \"prevention\", \"television\", \"lemieux\", \"soviet_union\", \"adequately\", \"pitt\", \"treatment\", \"study\", \"treat\", \"dn\", \"diagnosis\", \"tumor\", \"eeg\", \"syndrome\", \"neurologist\", \"millie\", \"aunt\", \"gonorrhea\", \"department\", \"box\", \"club\", \"modem\", \"status\", \"primary\", \"spec\", \"sufficient\", \"public_access\", \"automatically\", \"investment\", \"campaign\", \"exposure\", \"galaxy\", \"global\", \"approval\", \"spectrum\", \"routine\", \"baud\", \"yehuda\", \"speedstar\", \"rating\", \"accelerator\", \"keyboard\", \"mixer\", \"enviroleague\", \"resident\", \"admiral\", \"transformer\", \"franchise\", \"taxpayer\", \"hockey\", \"color\", \"ripem\", \"fund\", \"connect\", \"slave\", \"moral\", \"property\", \"serial\", \"lock\", \"positively\", \"intent\", \"alarm\", \"converter\", \"unnecessary\", \"provision\", \"theft\", \"deter\", \"complexity\", \"flexible\", \"malfunction\", \"hudson\", \"seller\", \"serial_number\", \"specie\", \"lemon\", \"serial_port\", \"premise\", \"protocol\", \"selfish\", \"handshake\", \"steven_langlois\", \"freshman\", \"spoof_chip\", \"granted\", \"ofthe\", \"immoral\", \"evil\", \"marriage\", \"behavior\", \"item\", \"encrypt\", \"transmit\", \"compare\", \"drug\", \"film\", \"movie\", \"stereo\", \"japanese\", \"deficit\", \"plot\", \"mad\", \"harley\", \"deck\", \"legalization\", \"legalize\", \"dale_cook\", \"hypocrisy_t\", \"neighbor_political\", \"heroin\", \"fuck\", \"criminalization\", \"taxis\", \"convinced\", \"winco\", \"reagan_reagan\", \"addict\", \"vat\", \"advocate\", \"revenue\", \"carter\", \"cigarette\", \"pot\", \"dea\", \"illegal\", \"trend\", \"gonorrhea\", \"plane\", \"hi\", \"subscription\", \"steve\", \"divide\", \"evolve\", \"intersection\", \"rip\", \"upcoming\", \"script\", \"infinity\", \"tel_fax\", \"portal\", \"announce\", \"intersect\", \"offerre\", \"xterminal\", \"turkish_plane\", \"cargo\", \"colour\", \"elchibey\", \"architecture\", \"shipment\", \"refugee\", \"feal\", \"c\", \"calculation\", \"parallel\", \"confiscate\", \"azeri\", \"tv\", \"advertising\", \"logo\", \"circle\", \"_\"], \"Freq\": [53235.0, 17060.0, 13405.0, 9429.0, 9896.0, 6637.0, 5937.0, 3405.0, 7863.0, 5026.0, 1994.0, 2521.0, 5181.0, 2275.0, 10774.0, 6155.0, 7967.0, 2024.0, 8881.0, 2061.0, 3455.0, 1931.0, 1697.0, 1739.0, 2761.0, 2419.0, 2869.0, 3172.0, 6755.0, 1680.0, 7966.547411250351, 4229.185595630222, 2985.3813718591555, 2784.2981848060017, 2454.752071779564, 2293.211895187291, 2271.4538605248754, 2267.4276510634527, 2790.914089915459, 2157.282447733334, 2086.111729601641, 2052.4177666026453, 2023.4591702585801, 2020.950337970902, 1541.958084205376, 1514.657186748615, 1430.3412090791053, 1336.4623635037267, 1288.4318023803858, 1250.8947616478326, 1144.1322732887309, 1141.7089576238334, 1108.228424261379, 998.8121286386148, 930.8832867352215, 927.9780998947995, 879.082031960484, 837.9588769860432, 780.6309424296143, 775.5204711203451, 6708.316005846407, 6800.932059405583, 3158.8711263577884, 2266.4101376799413, 2838.8091893993287, 10296.947559300013, 2047.8538468166025, 3725.884181929455, 2179.5854311285852, 5831.225673609481, 2706.5448582426457, 4534.674962356495, 3669.0945264297197, 4212.996378625899, 4295.498928225627, 5119.092460266125, 6514.643087501505, 6308.004732360038, 5798.893979036743, 3025.707164465684, 4182.136355849312, 3474.4934373398582, 3593.573111336863, 3548.847607404964, 3104.681507089254, 3215.8582869959896, 4479.302380373796, 3254.1471915305256, 3015.276618226376, 3139.357411865671, 3105.1054709990503, 2859.549503866569, 3433.4995942419164, 3385.9578974531228, 2999.6113166207565, 2065.54651128005, 1711.6691166358892, 1686.5032447339227, 1587.0026825906725, 1354.6693570361524, 1119.4419243673315, 1059.329374213326, 1055.3693769744013, 1045.5145764944123, 1038.0227176720687, 1033.7008048407408, 1031.9774909213252, 1021.1855875681498, 990.7030032730255, 986.73176641943, 938.2463166521035, 920.8925389271457, 912.3704757567584, 868.7592722183788, 865.5115855592223, 761.2727765245432, 696.3655472471156, 627.3802111132632, 590.9016202133084, 576.1889177773731, 513.4439562039876, 495.07673988953707, 638.449451958443, 718.1287194709228, 1725.7103925904216, 757.1678350880918, 2739.6002526122347, 1405.730739159138, 1897.2922895603513, 1070.1915251581945, 1324.6948969876084, 2359.8895402815674, 4362.843386767023, 2423.352338578601, 1608.6085938725428, 3871.2308834459677, 1963.152684993599, 2247.103566270403, 1663.6628491073652, 1485.8069992281396, 1142.5492608423226, 1426.3559940609723, 1129.5116824779016, 1297.7571934962302, 1219.2049315131471, 2042.6980605963117, 2032.009936351931, 1209.1465066807034, 1319.101596410091, 1403.0455952142602, 1535.09364619459, 1311.6669659591132, 6636.220091845303, 5936.1549757401335, 2868.7412904815524, 2139.352094652977, 1400.8719308894965, 1347.3449243819891, 1305.1374028644302, 951.3426083336565, 792.824131336576, 707.020651769417, 574.695250935988, 546.5217366684532, 518.8964680545511, 504.8790692930276, 391.1751223199483, 382.79023585713617, 354.26457749122335, 338.1483016870564, 312.48319337130977, 305.1046102607648, 293.6554576695647, 272.6496925107099, 269.6228920424282, 257.4897842379024, 247.61156843029218, 232.13350552394547, 226.83379753882969, 224.35296664394593, 204.02256277122743, 202.62242856622248, 3382.1186088275076, 8959.32629616245, 15394.061696081533, 774.7930513058402, 979.6494319308187, 1187.310936603641, 904.0743534612034, 7407.857309625189, 368.0457329188068, 8763.893053242391, 1327.9798682117382, 838.5160695994298, 1545.0883473570293, 1580.1470457179207, 806.3638015484665, 1225.6619781268669, 764.8686793499546, 1517.590097814651, 1323.2668095613067, 1357.6297170916519, 828.2846889059424, 1004.9607684059588, 983.5188235075743, 894.7011515771915, 875.9944205773804, 2692.778961227955, 1657.4796178367935, 1517.8485847201964, 1208.8712154736334, 1133.1146750849402, 1130.152813976736, 1094.7963087728078, 944.8296418733448, 944.4151696648802, 942.4523125085448, 896.0694230089382, 896.0586368761683, 885.1575250260603, 845.4444624700413, 839.4180256085763, 786.2012723441718, 730.9237106974158, 630.7738656582578, 594.5199761086577, 523.0280645597685, 465.2186635650832, 451.6534316727724, 448.32508843413785, 422.95744558212294, 410.3200674917602, 401.21268404607895, 373.532045362282, 369.2554258469626, 354.4141999231763, 352.5073813804953, 2082.435618842084, 2776.6142603093003, 724.7945591908939, 1307.0786805831356, 741.7982678551717, 1417.3543499596062, 928.027365607342, 882.9449990096722, 3788.203712802448, 1311.3668527584266, 1361.4579818531317, 1217.9882900132245, 1647.9856309216316, 3255.9020378980686, 1882.1074577534114, 1387.6491213037482, 1289.779804194177, 1206.5946296839422, 1268.286490956333, 1160.6819498707682, 1496.3163976028268, 1304.4823434463594, 1346.8310002822811, 993.6886332429127, 1049.2140021836597, 1758.783890032957, 1513.113731787123, 1318.7157757026384, 1041.8359456071823, 1031.9053916464982, 909.6263517983763, 831.0267776811891, 781.9566777366588, 765.3902123352931, 686.9211829885955, 656.6681073436204, 650.1802198540549, 612.1056226919321, 2755.8750550313425, 598.216629160599, 579.8623455774695, 565.921143289344, 560.7189364731814, 550.2187076465328, 478.87358833051763, 467.08237101645386, 463.93570669054986, 450.04488287852286, 439.14551558956043, 425.8197909417632, 411.77000725147434, 409.314273887503, 389.88671370549304, 387.69179534039705, 382.5050543960977, 591.7132757991704, 422.0365092335168, 829.3511557059588, 867.7363515018299, 1649.9186113340072, 1717.0869843496132, 697.6344564880096, 488.9081022346132, 563.9869026520711, 583.8140588665684, 3073.219920389139, 562.0733899436563, 1077.9935067705546, 1608.2326873348263, 857.2825202907707, 608.3389050239653, 600.8858190104919, 566.8300606819155, 53234.66715391855, 2418.3399671531183, 1671.0815609007475, 960.8549344828898, 770.2457651674308, 397.2175427688244, 396.2995622861419, 351.70145874568954, 280.152413846753, 228.02734019359178, 192.48231286479415, 187.64873896427358, 182.32153588361942, 169.45329973475046, 156.6330364099059, 153.60621205910832, 124.26485989271842, 111.76946218115499, 109.54960521266325, 105.67693783239784, 83.94677149613618, 64.85756906819616, 56.79387767177424, 31.735211881730365, 31.267077884036947, 27.10651280376894, 24.1505662347683, 0.14616541033172098, 0.14358603944462792, 0.14356887275089505, 13.862069305370355, 6.249323568635213, 1384.4436740478334, 1179.4739344785296, 833.3215966241629, 797.5762733154442, 708.2241661139569, 631.5586250135246, 568.7376683599923, 549.3977895837716, 541.8022330270747, 534.8719708112892, 499.4096591609127, 469.26256309411184, 466.23565847599315, 463.9980908208121, 462.47936108439535, 453.30014551009214, 439.69709183478375, 426.8520182799807, 397.63691896170786, 379.5796242802686, 378.3833561256469, 373.30419386719296, 356.8468674540856, 296.95372902747255, 276.99649895303895, 273.2754356974423, 270.1089485108512, 264.63716412031187, 262.2364116413634, 260.1423346203946, 460.644047250879, 1036.3119470544857, 964.5833700094847, 906.7727382674768, 1257.1902836804156, 597.0070157692197, 806.6523405719521, 746.3599947686212, 1274.4371009173167, 816.0549005646797, 1261.127398349867, 637.0988467127682, 805.0673275788138, 559.8483266382045, 720.9523977347895, 651.1531127340886, 490.18588548274084, 474.1965422489386, 524.1096501184606, 501.8066266628061, 1679.5043979319375, 770.6138036843768, 749.6116901427787, 694.5450417845834, 613.607323006176, 526.7434178376526, 476.78174678778174, 476.23365661615, 396.71900673342594, 393.29789394929736, 379.9575942503497, 363.6122404536999, 328.9708525659268, 285.7909741227489, 251.85355691495892, 247.7881603264662, 235.76917883653255, 229.75029769949637, 220.00718706775308, 213.7978481978691, 207.42281393038868, 198.28170461159587, 196.2726752507846, 195.35200519436265, 187.8178235025509, 186.29580817426825, 168.5149850189832, 162.77524293387174, 160.5649633211083, 159.75829005169817, 564.5629774895243, 272.27089343810076, 448.055534090657, 198.52443981481338, 293.4288617609485, 271.0716245988868, 222.29947181673867, 246.49573365250393, 275.8098878015767, 2060.435938890313, 1930.1223973020458, 1400.021346215758, 1328.5759444837545, 1297.373212621103, 838.1738561308557, 677.6593444578406, 490.8714640201367, 480.40492786518615, 449.4976350398841, 442.3255172462898, 360.828658793407, 353.7338765125307, 306.51000701741816, 304.5211561062385, 295.58864370580835, 212.93291942221936, 208.4596248214086, 193.11279575818585, 185.16371053657696, 183.77873453505887, 162.31697530916105, 159.31454505858358, 158.3002209148899, 154.09176630827466, 131.6489508638973, 125.47083647012522, 125.15531254359784, 121.94555360386858, 119.79961105329149, 299.6245892241023, 219.2555630895991, 333.3808577882291, 208.24407845819272, 674.0587618772746, 340.89007400612024, 428.66992771103423, 225.2154622380952, 223.44533552179368, 232.494533928572, 190.5626975698765, 2519.8594046228636, 1016.5081818152887, 734.475235020478, 678.5647720940136, 674.4544912465847, 530.551705955588, 429.47248640618926, 408.3553738333662, 402.2914779961603, 385.09358921919534, 357.32550571184964, 310.7778155862741, 298.80092388958514, 231.93906277120684, 216.7293933651334, 205.34792801563225, 185.46871055002205, 180.0558124088798, 157.62314476827453, 156.91278878689087, 136.8452572999202, 119.95919664147743, 114.04601199044144, 110.79888612303385, 97.89651602308396, 93.96474314164836, 92.63046994666188, 87.76143029529231, 85.24397267459513, 75.28934390794618, 328.1578326848945, 367.64891656638724, 197.88259916482943, 752.7334215802707, 302.54497133509005, 507.1078818628454, 418.8392130863571, 418.7138554952079, 304.2224398098497, 305.17352723199707, 268.6246819653065, 212.07079521566692, 210.8241490647062, 186.0960870911978, 3403.847660247564, 2023.389884587334, 797.0947464063948, 540.4970909381054, 523.4586091868827, 498.20751502011063, 371.65588860697954, 350.0011358980467, 321.13706442502166, 275.87017134103974, 227.162593373363, 223.9025708885246, 222.97083845233414, 187.48828109436286, 180.77220794844618, 164.27379787682892, 163.7827072152377, 157.02807388000653, 154.91499840849113, 151.07685416522853, 142.51934459201453, 139.95800691971786, 139.10063610131186, 123.46556201777585, 117.04048088366248, 109.8405106751871, 109.65694376963016, 104.01929626390795, 98.12087819065351, 96.07896833851015, 410.02398488336866, 336.047823246207, 182.87813146260223, 321.7315617714026, 323.8844987345177, 249.85944977310632, 158.17120026982025, 256.0745944121558, 167.2105040011001, 170.67589280737684, 906.8689195813924, 881.1361970976628, 740.9321116622014, 667.859393316309, 523.1399643589665, 507.1350187284001, 456.28705465488923, 435.7296842026676, 389.35990509855566, 369.682404362539, 343.8742832359351, 323.1583902271787, 323.11962868100846, 274.842769917415, 253.77792642724174, 249.13140780740946, 232.56101098164024, 199.08401354548226, 166.8909947403603, 166.83633844954727, 153.31434313263813, 140.4397061944435, 137.4375211180624, 122.86570978423832, 122.77504407497267, 121.01113299633816, 118.02527721108159, 114.01399795141779, 99.45823586765225, 98.01603403432448, 1622.5407863211537, 153.71796921804503, 470.20026734100475, 438.16905433250173, 241.0786241661305, 478.21345896950396, 213.46734758529772, 272.9197375737598, 277.04750426029244, 222.57866714289165, 208.72445621240644, 1695.8212195449732, 466.87450889617173, 464.38072205487913, 386.0461336032523, 376.0595336128162, 373.3981219835442, 320.1377030590442, 304.4939226464634, 297.3796708197382, 285.509991511917, 263.37861123065454, 245.05220952175117, 230.5739196491945, 212.7248246901624, 207.87663094441444, 197.68343749301698, 177.42567695814097, 174.29714695342227, 159.70549096427467, 154.03980287764682, 150.1181562629709, 144.38672713261022, 137.80006949215013, 132.91634286099995, 119.8243932768537, 110.63946961824549, 105.36964821701852, 104.65538367569248, 104.60305112764404, 102.12110362363909, 416.34037997939697, 165.42444119515756, 175.38709478731084, 198.6227015001957, 121.4118981843788, 877.5728983534294, 577.7332987000476, 534.6400073464043, 531.4724840458922, 474.6956548717344, 469.2654027360185, 417.7070266648389, 338.38707862438036, 334.3474659299788, 333.8682774950017, 287.9859504629854, 266.05457321851407, 234.99619801964934, 231.7079767768446, 192.65442189625844, 155.25620023517297, 155.20674378571033, 148.7121740041195, 127.804858836119, 127.0939017453175, 114.57866939447847, 104.86062148349934, 101.20400745557043, 97.88102504034721, 93.0393266583311, 92.14111309153998, 91.90149824427553, 91.24573268064132, 89.74836853192151, 88.33650105118961, 960.6095068229164, 235.69056877061436, 102.90948478373096, 1992.9991400175259, 455.55448356803015, 441.8388212371324, 253.1098321565722, 182.3459169873918, 163.67748823052838, 150.33288074063415, 137.09034012512862, 86.14086956902567, 81.18348877364767, 78.33010413714442, 71.14483136417002, 45.83198230591332, 38.24007567100677, 31.069833090013418, 23.54217038537689, 22.859960055987486, 13.766525520188388, 9.475849470531312, 1.0592174510978647, 139.76880294824718, 57.03126526056701, 326.1793839854158, 85.3754498789549, 9.29182730198704, 52.74784288798818, 11.194894652129884, 44.20103715838335, 0.05941664195657025, 0.05940777124420292, 35.457369033091254, 15.356878171635872, 9.684323145378979, 630.4154331083109, 333.86277564317567, 302.7504459262209, 279.09498584552824, 239.41131753179354, 227.89692438129703, 208.34721273590358, 184.46901731939792, 94.06018574598528, 82.72754300325023, 74.1225585066137, 71.33007912796415, 63.00467616138325, 45.77261711023376, 34.12261352184885, 29.08482674911957, 26.02761590527753, 15.191446952696266, 225.69350626284822, 167.89529203179455, 52.78222301684499, 0.04486509042819028, 0.04486170034641856, 0.044860865551507804, 0.044857785972721186, 0.044854803107979103, 0.04485062404321247, 0.04485019646533135, 0.04485019646533135, 0.044847432479742703, 8.569438033459205, 230.8193073815641, 190.1873260430443, 156.68550606582156, 154.83341024607802, 115.22153813779207, 111.4308052639126, 100.69255485093565, 88.29724179976917, 86.57086112125555, 79.34441289106246, 66.30600845413659, 65.5403276179226, 53.32768319602535, 33.341764763869065, 28.859859087456297, 18.200691840576102, 112.11901716549033, 0.0430669659666485, 0.043066581816993, 0.043066180363298956, 0.04306636724691515, 0.04306702133957182, 0.04306747470538147, 0.0430659138811055, 0.043066761778993774, 0.04306592772433633, 0.043065865429797595, 0.04306577544879721, 0.04306600040129818, 0.04306528747491049, 0.043068852106848965, 0.04306816686692293, 0.043069049372888274, 0.043066623346685484, 0.04306654720891593, 0.04306689675049436, 239.06619622162268, 145.12276823676248, 116.90868681158857, 93.96989095218159, 57.09813078594506, 55.07817567729013, 46.094865593988025, 31.26736192285326, 28.647263142886256, 18.81375434368264, 17.817084163717855, 17.185810849219358, 15.890876959688729, 10.602115373554717, 3.307251743414176, 0.034438986930816214, 0.03443916574075393, 0.03443845520652774, 0.03443734705546636, 0.03443726235602217, 0.0344370553129364, 0.03443684591708828, 0.03443763409247164, 0.03443675651211942, 0.03443646006406479, 0.03443641065605568, 0.034436405950531004, 0.03443654946903365, 0.03443631184003747, 0.03443631184003747, 0.03443660122980509, 0.03443724118116113, 0.03443692120548311, 0.034436956496918185, 0.03443774937782622, 0.03443819404990817, 0.03443694238034416, 0.0344367612176441, 288.738183666602, 58.549108151488326, 53.94966598485251, 52.10538952227896, 50.135295554246994, 44.96675155693562, 41.4247564621871, 28.639165738609286, 19.30708175032425, 13.853451899301563, 0.02852116328874896, 0.028520056918577664, 0.02851995243842658, 0.02851918189731234, 0.02851918189731234, 0.028519103537199025, 0.028519103537199025, 0.028518881516877974, 0.028519109134349976, 0.02851890017404781, 0.028518728528085315, 0.028518708005198495, 0.028518646436538037, 0.02851888524831194, 0.02851906435714237, 0.028518855396840202, 0.02851873599095325, 0.028518584867877575, 0.028518758379557054, 0.028518364713273507, 0.028519049431406502, 0.028518760245274038, 0.028518696810896596, 92.38594886816045, 38.92567592210206, 26.77423747636439, 24.977925816070734, 19.12927294668932, 13.532180896337918, 12.826738858447001, 12.285176487445518, 10.145410728044544, 8.663663618755713, 8.416772016248647, 7.214269084654865, 5.87134103048482, 0.02034964661918978, 0.02034839653479642, 0.02034810787471304, 0.02034810787471304, 0.020348173056022188, 0.02034811951423253, 0.020348135809559815, 0.020347965872575244, 0.020348110202616936, 0.020347965872575244, 0.020347716786858133, 0.02034767488458796, 0.020348801590074714, 0.020347823870437452, 0.020347903019169993, 0.02034763531022169, 0.020347637638125592, 0.020348361616237945, 0.02034811485842473, 0.020348072956154564, 0.020348014758557107, 0.02034822194200405], \"Total\": [53235.0, 17060.0, 13405.0, 9429.0, 9896.0, 6637.0, 5937.0, 3405.0, 7863.0, 5026.0, 1994.0, 2521.0, 5181.0, 2275.0, 10774.0, 6155.0, 7967.0, 2024.0, 8881.0, 2061.0, 3455.0, 1931.0, 1697.0, 1739.0, 2761.0, 2419.0, 2869.0, 3172.0, 6755.0, 1680.0, 7967.731486432914, 4230.369670812785, 2986.565447041717, 2785.4822599885633, 2455.957817406614, 2294.3959703698524, 2272.637935707437, 2268.6117262460143, 2792.4362830381824, 2158.4665229158954, 2087.2958047842026, 2053.601841785207, 2024.643245441142, 2022.1344131534638, 1543.142159387938, 1515.8412619311769, 1431.5252842616671, 1337.6464386862885, 1289.6158775629476, 1252.0788368303945, 1145.3163484712927, 1142.8930328124566, 1109.4124994439408, 999.9962038211768, 932.0673619228737, 929.1621750773614, 880.2661071481361, 839.1429521686051, 781.8150176121762, 776.704546302907, 6755.64889449025, 6871.820206668507, 3170.5395175811573, 2273.6999853579546, 2855.439541315133, 10774.336393094007, 2074.533676535, 3849.2077453376573, 2216.5562380102742, 6280.3403215066255, 2817.9609162939946, 4867.107233797446, 3967.1140915177866, 4806.633141801601, 4931.076301431422, 6188.05696477394, 8625.039798200713, 8341.132699999218, 7842.710070920303, 3431.846536856181, 5540.881516814507, 4331.790643254871, 4927.408434340215, 5026.850510660291, 4187.699788556775, 4531.673933753977, 8881.761180337911, 4658.310818032034, 4216.093885409614, 6021.884707313685, 13405.141570414262, 4141.335743079767, 3434.691738749453, 3387.1500419606596, 3000.8034611282933, 2066.7386557875866, 1712.8612611434262, 1687.695389247521, 1588.1948270982095, 1355.8615015436894, 1120.6732318581435, 1060.521518720863, 1056.5615214819384, 1046.7067210019493, 1039.2148621796057, 1034.8929493482779, 1033.1696354288622, 1022.3777320756869, 991.8951477805626, 987.9239144570495, 939.4384611596406, 922.084683439773, 913.5626202642956, 869.9514167259159, 866.703730078626, 762.4649210320804, 697.5576917546528, 628.5723556208003, 592.0937648672724, 577.3810622909716, 514.6361007115247, 496.26888439707426, 640.4001871267153, 721.6153833501654, 1754.7457527472043, 762.9286337712051, 2880.069598357468, 1539.9077046154127, 2221.813852674828, 1148.3966384469898, 1495.2085615321253, 3367.790409614751, 8881.761180337911, 3813.7237655387025, 2111.933607313624, 7863.351416381955, 2963.7572265395625, 3964.343233075833, 2670.7201222514273, 2185.4022442282576, 1315.3662773668707, 2309.7980444180166, 1292.7411975459866, 1863.2368306253811, 1637.7749839732692, 7842.710070920303, 8341.132699999218, 1680.7962086377577, 2520.097403013541, 4658.310818032034, 13405.141570414262, 6021.884707313685, 6637.409648939136, 5937.344532833967, 2869.9308475753837, 2140.541651778452, 1402.0614879833283, 1348.534481475821, 1306.326959958262, 952.5321654274885, 794.0136884532012, 708.210208863249, 575.8848080588942, 547.7112937622852, 520.0860251550666, 506.06862639228217, 392.36467941378027, 383.9797929623394, 355.45413458505533, 339.33785968689, 313.67275047591806, 306.2941674006384, 294.8450148175851, 273.8392497083746, 270.8124491935303, 258.679341338418, 248.80112552412402, 233.32306264065983, 228.02335468927953, 225.54252373777777, 205.21211987802388, 203.81198567037197, 3455.2446203275276, 9429.333424829536, 17060.963143508518, 802.342115044826, 1028.1831277629879, 1301.831801644992, 1004.3421302195237, 9896.907574392586, 380.6919052503944, 13405.141570414262, 1687.1613997693494, 1025.7395733397975, 2415.2865710847414, 2901.6058918179274, 1339.3502288129835, 2901.1351424380646, 1287.2718056441379, 4819.968652284715, 4016.4888431838503, 5540.881516814507, 1720.33906288513, 3367.790409614751, 4187.699788556775, 6155.4651780433505, 8625.039798200713, 2693.9599028199514, 1658.6605594287905, 1519.0295263121934, 1210.0521570710528, 1134.2956166877138, 1131.333755568733, 1095.9772503648048, 946.0105834653418, 945.5961112568772, 943.6332541005418, 897.2503646060184, 897.2395784681653, 886.3384666180573, 846.6254040620383, 840.5989672059958, 787.3822139836343, 732.1046522894128, 631.9548073013744, 595.7009177006547, 524.2090061517655, 466.3996051570802, 452.83437326985256, 449.50603002613485, 424.13838717921016, 411.5010090837572, 402.3936256504486, 374.712986954279, 370.4363674389596, 355.5951415151733, 353.68832297757547, 2093.130894230512, 2800.2460793223113, 731.310398923507, 1354.9637575918284, 773.8836317156183, 1589.1466006299854, 1003.8739446357237, 969.4419908532825, 5181.577643796341, 1548.1725793589142, 1634.3712176525876, 1470.5465105003814, 2311.4198759191886, 6155.4651780433505, 3172.524177339026, 2169.9926779882585, 1966.12262946359, 1868.2836010980823, 2480.817366594051, 1965.7628845563336, 4158.912041490851, 4927.408434340215, 6021.884707313685, 1614.3658838744825, 4819.968652284715, 1759.9698169789558, 1514.2996587331218, 1319.9017026486372, 1043.021872553181, 1033.091318592497, 910.8122787443752, 832.2127053055696, 783.1426046826577, 766.5761392812921, 688.1071099624147, 657.854034301018, 651.3661468000539, 613.2915496379311, 2761.3346755206235, 599.4025561116882, 581.0482725234684, 567.1070702353429, 561.9048634191804, 551.404634597615, 480.0595153809879, 468.2682979904214, 465.1216336365488, 451.2308098461051, 440.33144253555935, 427.0057179915937, 412.95593421429453, 410.50020083350194, 391.07264065658217, 388.877722292677, 383.6909813593738, 595.5578820074956, 424.8186440228217, 870.7873082195908, 948.9891478179229, 1965.0123533800358, 2136.9246263461573, 780.8613840136851, 505.6692325439478, 617.7314216028053, 657.0064985233971, 7863.351416381955, 624.909356866527, 1784.8938072810256, 4025.060901692375, 1611.1397283723782, 781.8574566194833, 852.5684373500266, 713.0504371645951, 53235.7817912482, 2419.454604780727, 1672.1961982827845, 961.9695721670191, 771.3604026952452, 398.33218028674776, 397.414200034015, 352.8160962768031, 281.26705136692533, 229.14197765840882, 193.5969503641476, 188.76337653749283, 183.4361733690722, 170.56793783043634, 157.7476738391164, 154.72084947818325, 125.37949726639354, 112.88409960039071, 110.6642426157138, 106.7915752539, 85.06140912126519, 65.97220649202839, 57.908515415971, 32.84984931551174, 32.381715366042286, 28.22115025950134, 25.26520362363655, 1.2608065107807092, 1.2582412689050746, 1.258206212598958, 2415.0812455388304, 2273.6999853579546, 1385.6268662445168, 1180.6571266812743, 834.5047888269079, 798.759465517211, 709.4073583167019, 632.7418172102083, 569.920863049645, 550.5809817923217, 542.98542527604, 536.0551630079729, 500.59285135759626, 470.44575530316797, 467.41885067775985, 465.1812830174956, 463.6625532810789, 454.48333770677567, 440.8802840314673, 428.0352104820868, 398.8201111583914, 380.7628164823747, 379.56654832901404, 374.4873860699377, 358.03005965076915, 298.1369212241561, 278.1796911497225, 274.4586278941258, 271.2921407075347, 265.8203563232764, 263.4196038499136, 261.3255268170781, 463.89194943346706, 1080.0044878542867, 1028.0479259323954, 983.0768838202881, 1462.4316655622692, 654.8954978344043, 931.2097904407646, 977.5401452335348, 2244.6067621004327, 1174.6240800464955, 2265.812140973487, 1022.7832778178474, 2480.817366594051, 1051.0060649816944, 5026.850510660291, 3223.562790631311, 678.0232957880111, 661.477617727692, 3813.7237655387025, 4016.4888431838503, 1680.6943499678368, 771.7987534483004, 750.7966399067024, 695.7299915485071, 614.7922727755222, 527.9283676015763, 477.9666965580168, 477.41860638007364, 397.9039564973496, 394.4828437462638, 381.14254401427337, 364.79719021762355, 330.1558023459488, 286.97592388667255, 253.03850667888253, 248.97311010154127, 236.95412861887368, 230.93524746900556, 221.1921368316767, 214.98279796737827, 208.60776369973485, 199.46665437551948, 197.4576250362475, 196.53695495828626, 189.00277333985437, 187.48075793819186, 169.69993489804844, 163.96019271366194, 161.74991310979152, 160.9432398279944, 588.998650648997, 325.8280891461705, 728.8126686027533, 255.9400619135398, 782.0945543134447, 624.7736810244853, 361.1914440418238, 908.6080112790077, 2185.4022442282576, 2061.633376065188, 1931.3198344769214, 1401.2187833962194, 1329.7733816586301, 1298.5706497959786, 839.371293329332, 678.8567816327164, 492.0689011950125, 481.6023650400619, 450.6950722147598, 443.52295442116554, 362.02609596828273, 354.93131370548457, 307.7074441922939, 305.71859328111424, 296.7860808925507, 214.13035659709507, 209.6570619962843, 194.31023293306157, 186.36114771703825, 184.9761717099346, 163.51441248403677, 160.51198223904487, 159.49765814115324, 155.28920357474013, 132.84638804909068, 126.66827365058656, 126.3527497184736, 123.14299080234488, 120.99704822816724, 349.83632365398836, 248.56305687436893, 700.0741382975123, 333.81980767506127, 5026.850510660291, 1278.9560596194037, 3172.524177339026, 482.72771700370333, 671.6989913623888, 2287.6592666879283, 688.2798608526923, 2521.055452581052, 1017.7042297899601, 735.6712829786674, 679.760820052203, 675.6505392047741, 531.7477539137774, 430.6685343704399, 409.5514217915556, 403.48752595434974, 386.28963717738475, 358.52155367003905, 311.9738635444635, 299.99697184777455, 233.1351108167328, 217.92544132332273, 206.54397597382157, 186.66475850821138, 181.25186044821092, 158.81919272646385, 158.10883675066577, 138.04130525810953, 121.15524459966682, 115.2420599542164, 111.99493413444742, 99.09256398598846, 95.16079109983774, 93.82651790485126, 88.9574782585719, 86.44002063749963, 76.48539186613556, 355.9980843912116, 471.68866553598, 237.94881813544714, 1611.1397283723782, 630.5168412962437, 1614.3658838744825, 1720.33906288513, 2136.9246263461573, 1287.2718056441379, 6155.4651780433505, 5181.577643796341, 2244.6067621004327, 2311.4198759191886, 1025.7395733397975, 3405.04126492142, 2024.5834892611906, 798.2883510802516, 541.6906956119622, 524.6522138668006, 499.4011196939673, 372.84949332156435, 351.1947405781844, 322.33066914528484, 277.0637760148964, 228.35619804721964, 225.09617556238123, 224.16444312619078, 188.6818857682195, 181.96581267557414, 165.4674919578518, 164.9763119036193, 158.2216786114126, 156.1086030870629, 152.27045883908517, 143.7129492782438, 141.1516115935745, 140.29424082640944, 124.65916669163255, 118.23408555751918, 111.03411536041503, 110.85054848126167, 105.21290093776464, 99.33081238226487, 97.27257303596738, 570.5370331297283, 512.6918727483195, 263.22244677833663, 851.4012239503363, 931.5761702665427, 1049.8161689720591, 297.23307026806623, 1798.771274895607, 411.79313196022906, 1589.1466006299854, 908.0639544472363, 882.3312319635066, 742.127146539812, 669.0544281821528, 524.3349992248103, 508.3300535942438, 457.4820895274165, 436.9247190685113, 390.5549399699849, 370.8774392338052, 345.06931810846237, 324.35342510472594, 324.31466354685216, 276.0378048066091, 254.97296129308538, 250.32644272983092, 233.75604584748388, 200.27904841738714, 168.08602961128716, 168.03137333079178, 154.50937807873763, 141.63474106537035, 138.63255598898925, 124.06074469199321, 123.97007894589957, 122.20616788035984, 119.22031208234783, 115.20903281726149, 100.65327081347459, 99.2110689064492, 1739.0356409395054, 162.84177112235827, 584.3272380606129, 546.8041972693037, 362.37112302120454, 1204.4216857153267, 409.3337128671301, 755.0682826820963, 860.6231177952886, 728.8167470225212, 622.4886757304394, 1697.0183135270427, 468.0716028849249, 465.5778160369488, 387.24322758532196, 377.25662759488586, 374.5952160282394, 321.334797046197, 305.691016628533, 298.57676481354173, 286.70708549398665, 264.5757052127242, 246.24930350382076, 231.7710136363473, 213.92191867829322, 209.07372492648403, 198.88053147508657, 178.62277094021056, 175.49424093549186, 160.9025849517668, 155.2368968597164, 151.31525025110173, 145.58382111976303, 138.99716347421972, 134.11343684306954, 121.02148725892333, 111.83656362565236, 106.56674219908815, 105.85247769549898, 105.80014510971367, 103.31819772698256, 822.0587347161944, 218.1587618420133, 316.29359211391954, 1160.3635185162723, 219.61938589969455, 878.7653029724547, 578.9257033206733, 535.8324119603465, 532.6648886598343, 475.88805948567637, 470.4578073656837, 418.89943127878087, 339.5794832383223, 335.5398705767442, 335.06068211402686, 289.17835511130426, 267.246977832456, 236.18860263965254, 232.90038139313933, 193.8468265102004, 156.44860486122107, 156.39914840571353, 149.90457861806146, 128.99726345006096, 128.28630635925944, 115.77107400842047, 106.05302611958196, 102.39641206951244, 99.07342965428921, 94.23173128439558, 93.33351771056519, 93.09390287614536, 92.4381373125983, 90.94077316222545, 89.52890570017361, 1160.3635185162723, 1548.1725793589142, 471.68866553598, 1994.1979287930355, 456.7532723435399, 443.03761002281556, 254.30862093208194, 183.54470577429615, 164.87627700603812, 151.53166952282749, 138.2891289362763, 87.33965835568686, 82.38227754915744, 79.52889294088638, 72.34362016171443, 47.030771093529225, 39.43886445825048, 32.26862186552319, 24.740959167570242, 24.05874883708282, 14.965314295698152, 10.674638349523528, 2.2580062266076286, 316.29359211391954, 134.55493610697158, 2275.0263260569686, 969.4419908532825, 122.56656904959013, 703.8486093010195, 153.25851317596275, 794.3421549827705, 1.2583192523407876, 1.2582097368549197, 1027.2876953313535, 611.3861608657122, 681.6462626506685, 631.6287862035696, 335.0761287384343, 303.96379902147953, 280.3083389407869, 240.6246706378285, 229.1102774765556, 209.56056583116217, 185.6823704146565, 95.27353884124389, 83.94089611037545, 75.33591186736739, 72.54343222322277, 64.21802927481986, 46.985970229731606, 35.335966623168694, 30.29817987897489, 27.2409690110419, 16.404800047954875, 302.9752871399007, 754.681722787241, 395.94364400077427, 1.2582528922599168, 1.258253202266538, 1.2582425357244051, 1.258236863596187, 1.2582368032788256, 1.2582216314993904, 1.2582196384186926, 1.258219735274986, 1.258260712523713, 539.4314190618768, 232.0344315801733, 191.4024502477147, 157.90063026443076, 156.04853444977743, 116.43666234149147, 112.6459294742886, 101.9076790549674, 89.51236599837836, 87.7859853252873, 80.55953708967165, 67.52113267253934, 66.755451821622, 54.54280740661215, 34.556888967193395, 30.07498330966604, 19.415816045868887, 122.56656904959013, 1.2581980609342815, 1.258194335752705, 1.2581969428187894, 1.258205525584858, 1.2582250398600918, 1.258238297293881, 1.2581970716222193, 1.258222624040239, 1.2582007794849512, 1.2582010665477859, 1.2581998866225683, 1.2582100634257563, 1.2581929931212978, 1.2583094409674076, 1.2583192523407876, 1.2583948711805688, 1.2582477507226741, 1.2582757375898306, 1.2583625839819146, 240.28994926550268, 146.3465213039929, 118.13243986089111, 95.19364399606158, 58.32188389902127, 56.30192872117014, 47.318618637868035, 32.49111496673327, 29.87101621655215, 20.037507398407747, 19.04083729885962, 18.409563893099364, 17.114630125935246, 11.825868466585508, 4.531004792384396, 1.258207519477656, 1.2582231885527446, 1.258233526036189, 1.2582048864193895, 1.2582094396248011, 1.25820698891388, 1.2582015532080328, 1.2582311817120073, 1.2581997494813848, 1.2581931576649483, 1.258191467999283, 1.2581957824157408, 1.2582038200118553, 1.2581963939967786, 1.2581963939967786, 1.2582070739556044, 1.258233310559601, 1.2582207351070207, 1.258224756871491, 1.258267015200685, 1.258302695221214, 1.258233301429172, 1.2583029894431643, 289.96785490253035, 59.778779387416655, 55.17933722078084, 53.33506075820729, 51.36496679017532, 46.196422798925184, 42.65442769811543, 29.86883697453761, 20.53675299133579, 15.08312313522989, 1.2581971804396097, 1.258195015109694, 1.258194707628959, 1.2581928259554322, 1.2581928259554322, 1.2581926629697293, 1.2581957824636625, 1.25819179097452, 1.258204780808973, 1.258195614056637, 1.2581923881574968, 1.2581929176607318, 1.2581930686069938, 1.258203796192629, 1.2582132020966734, 1.2582043799031564, 1.2582014070650172, 1.258196153493266, 1.2582059964643895, 1.2581907365904539, 1.2582245942268964, 1.2582129603122028, 1.258260712523713, 93.62379029217043, 40.16351734611204, 28.01207903683407, 26.21576724008071, 20.367114412638006, 14.770022342426595, 14.064580288738007, 13.523017916538706, 11.3832521811044, 9.901505054871826, 9.654613444973753, 8.452110508664841, 7.109182489733604, 1.2582634620325932, 1.258195268375226, 1.258190606927149, 1.2581906708372157, 1.2581964020927607, 1.2581976404884299, 1.2581999532636106, 1.2581935780432365, 1.2582031169265742, 1.2581946992012087, 1.2581939579228696, 1.2581929498684616, 1.2582628078636924, 1.2582055077690082, 1.258210525906817, 1.2581940215250236, 1.2581951629226558, 1.2582411642003024, 1.2582269636563193, 1.2582251611078046, 1.2582260233698204, 1.258251341281366], \"Category\": [\"Default\", \"Default\", \"Default\", \"Default\", \"Default\", \"Default\", \"Default\", \"Default\", \"Default\", \"Default\", \"Default\", \"Default\", \"Default\", \"Default\", \"Default\", \"Default\", \"Default\", \"Default\", \"Default\", \"Default\", \"Default\", \"Default\", \"Default\", \"Default\", \"Default\", \"Default\", \"Default\", \"Default\", \"Default\", \"Default\", \"Topic1\", \"Topic1\", \"Topic1\", \"Topic1\", \"Topic1\", \"Topic1\", \"Topic1\", \"Topic1\", \"Topic1\", \"Topic1\", \"Topic1\", \"Topic1\", \"Topic1\", \"Topic1\", \"Topic1\", \"Topic1\", \"Topic1\", \"Topic1\", \"Topic1\", \"Topic1\", \"Topic1\", \"Topic1\", \"Topic1\", \"Topic1\", \"Topic1\", \"Topic1\", \"Topic1\", \"Topic1\", \"Topic1\", \"Topic1\", \"Topic1\", \"Topic1\", \"Topic1\", \"Topic1\", \"Topic1\", \"Topic1\", \"Topic1\", \"Topic1\", \"Topic1\", \"Topic1\", \"Topic1\", \"Topic1\", \"Topic1\", \"Topic1\", \"Topic1\", \"Topic1\", \"Topic1\", \"Topic1\", \"Topic1\", \"Topic1\", \"Topic1\", \"Topic1\", \"Topic1\", \"Topic1\", \"Topic1\", \"Topic1\", \"Topic1\", \"Topic1\", \"Topic1\", \"Topic1\", \"Topic1\", \"Topic1\", \"Topic2\", \"Topic2\", \"Topic2\", \"Topic2\", \"Topic2\", \"Topic2\", \"Topic2\", \"Topic2\", \"Topic2\", \"Topic2\", \"Topic2\", \"Topic2\", \"Topic2\", \"Topic2\", \"Topic2\", \"Topic2\", \"Topic2\", \"Topic2\", \"Topic2\", \"Topic2\", \"Topic2\", \"Topic2\", \"Topic2\", \"Topic2\", \"Topic2\", \"Topic2\", \"Topic2\", \"Topic2\", \"Topic2\", \"Topic2\", \"Topic2\", \"Topic2\", \"Topic2\", \"Topic2\", \"Topic2\", \"Topic2\", \"Topic2\", \"Topic2\", \"Topic2\", \"Topic2\", \"Topic2\", \"Topic2\", \"Topic2\", \"Topic2\", \"Topic2\", \"Topic2\", \"Topic2\", \"Topic2\", \"Topic2\", \"Topic2\", \"Topic2\", \"Topic2\", \"Topic2\", \"Topic2\", \"Topic2\", \"Topic2\", \"Topic2\", \"Topic2\", \"Topic2\", \"Topic2\", \"Topic3\", \"Topic3\", \"Topic3\", \"Topic3\", \"Topic3\", \"Topic3\", \"Topic3\", \"Topic3\", \"Topic3\", \"Topic3\", \"Topic3\", \"Topic3\", \"Topic3\", \"Topic3\", \"Topic3\", \"Topic3\", \"Topic3\", \"Topic3\", \"Topic3\", \"Topic3\", \"Topic3\", \"Topic3\", \"Topic3\", \"Topic3\", \"Topic3\", \"Topic3\", \"Topic3\", \"Topic3\", \"Topic3\", \"Topic3\", \"Topic3\", \"Topic3\", \"Topic3\", \"Topic3\", \"Topic3\", \"Topic3\", \"Topic3\", \"Topic3\", \"Topic3\", \"Topic3\", \"Topic3\", \"Topic3\", \"Topic3\", \"Topic3\", \"Topic3\", \"Topic3\", \"Topic3\", \"Topic3\", \"Topic3\", \"Topic3\", \"Topic3\", \"Topic3\", \"Topic3\", \"Topic3\", \"Topic3\", \"Topic4\", \"Topic4\", \"Topic4\", \"Topic4\", \"Topic4\", \"Topic4\", \"Topic4\", \"Topic4\", \"Topic4\", \"Topic4\", \"Topic4\", \"Topic4\", \"Topic4\", \"Topic4\", \"Topic4\", \"Topic4\", \"Topic4\", \"Topic4\", \"Topic4\", \"Topic4\", \"Topic4\", \"Topic4\", \"Topic4\", \"Topic4\", \"Topic4\", \"Topic4\", \"Topic4\", \"Topic4\", \"Topic4\", \"Topic4\", \"Topic4\", \"Topic4\", \"Topic4\", \"Topic4\", \"Topic4\", \"Topic4\", \"Topic4\", \"Topic4\", \"Topic4\", \"Topic4\", \"Topic4\", \"Topic4\", \"Topic4\", \"Topic4\", \"Topic4\", \"Topic4\", \"Topic4\", \"Topic4\", \"Topic4\", \"Topic4\", \"Topic4\", \"Topic4\", \"Topic4\", \"Topic4\", \"Topic4\", \"Topic5\", \"Topic5\", \"Topic5\", \"Topic5\", \"Topic5\", \"Topic5\", \"Topic5\", \"Topic5\", \"Topic5\", \"Topic5\", \"Topic5\", \"Topic5\", \"Topic5\", \"Topic5\", \"Topic5\", \"Topic5\", \"Topic5\", \"Topic5\", \"Topic5\", \"Topic5\", \"Topic5\", \"Topic5\", \"Topic5\", \"Topic5\", \"Topic5\", \"Topic5\", \"Topic5\", \"Topic5\", \"Topic5\", \"Topic5\", \"Topic5\", \"Topic5\", \"Topic5\", \"Topic5\", \"Topic5\", \"Topic5\", \"Topic5\", \"Topic5\", \"Topic5\", \"Topic5\", \"Topic5\", \"Topic5\", \"Topic5\", \"Topic5\", \"Topic5\", \"Topic5\", \"Topic5\", \"Topic5\", \"Topic6\", \"Topic6\", \"Topic6\", \"Topic6\", \"Topic6\", \"Topic6\", \"Topic6\", \"Topic6\", \"Topic6\", \"Topic6\", \"Topic6\", \"Topic6\", \"Topic6\", \"Topic6\", \"Topic6\", \"Topic6\", \"Topic6\", \"Topic6\", \"Topic6\", \"Topic6\", \"Topic6\", \"Topic6\", \"Topic6\", \"Topic6\", \"Topic6\", \"Topic6\", \"Topic6\", \"Topic6\", \"Topic6\", \"Topic6\", \"Topic6\", \"Topic6\", \"Topic7\", \"Topic7\", \"Topic7\", \"Topic7\", \"Topic7\", \"Topic7\", \"Topic7\", \"Topic7\", \"Topic7\", \"Topic7\", \"Topic7\", \"Topic7\", \"Topic7\", \"Topic7\", \"Topic7\", \"Topic7\", \"Topic7\", \"Topic7\", \"Topic7\", \"Topic7\", \"Topic7\", \"Topic7\", \"Topic7\", \"Topic7\", \"Topic7\", \"Topic7\", \"Topic7\", \"Topic7\", \"Topic7\", \"Topic7\", \"Topic7\", \"Topic7\", \"Topic7\", \"Topic7\", \"Topic7\", \"Topic7\", \"Topic7\", \"Topic7\", \"Topic7\", \"Topic7\", \"Topic7\", \"Topic7\", \"Topic7\", \"Topic7\", \"Topic7\", \"Topic7\", \"Topic7\", \"Topic7\", \"Topic7\", \"Topic7\", \"Topic8\", \"Topic8\", \"Topic8\", \"Topic8\", \"Topic8\", \"Topic8\", \"Topic8\", \"Topic8\", \"Topic8\", \"Topic8\", \"Topic8\", \"Topic8\", \"Topic8\", \"Topic8\", \"Topic8\", \"Topic8\", \"Topic8\", \"Topic8\", \"Topic8\", \"Topic8\", \"Topic8\", \"Topic8\", \"Topic8\", \"Topic8\", \"Topic8\", \"Topic8\", \"Topic8\", \"Topic8\", \"Topic8\", \"Topic8\", \"Topic8\", \"Topic8\", \"Topic8\", \"Topic8\", \"Topic8\", \"Topic8\", \"Topic8\", \"Topic8\", \"Topic8\", \"Topic9\", \"Topic9\", \"Topic9\", \"Topic9\", \"Topic9\", \"Topic9\", \"Topic9\", \"Topic9\", \"Topic9\", \"Topic9\", \"Topic9\", \"Topic9\", \"Topic9\", \"Topic9\", \"Topic9\", \"Topic9\", \"Topic9\", \"Topic9\", \"Topic9\", \"Topic9\", \"Topic9\", \"Topic9\", \"Topic9\", \"Topic9\", \"Topic9\", \"Topic9\", \"Topic9\", \"Topic9\", \"Topic9\", \"Topic9\", \"Topic9\", \"Topic9\", \"Topic9\", \"Topic9\", \"Topic9\", \"Topic9\", \"Topic9\", \"Topic9\", \"Topic9\", \"Topic9\", \"Topic9\", \"Topic10\", \"Topic10\", \"Topic10\", \"Topic10\", \"Topic10\", \"Topic10\", \"Topic10\", \"Topic10\", \"Topic10\", \"Topic10\", \"Topic10\", \"Topic10\", \"Topic10\", \"Topic10\", \"Topic10\", \"Topic10\", \"Topic10\", \"Topic10\", \"Topic10\", \"Topic10\", \"Topic10\", \"Topic10\", \"Topic10\", \"Topic10\", \"Topic10\", \"Topic10\", \"Topic10\", \"Topic10\", \"Topic10\", \"Topic10\", \"Topic10\", \"Topic10\", \"Topic10\", \"Topic10\", \"Topic10\", \"Topic10\", \"Topic10\", \"Topic10\", \"Topic10\", \"Topic10\", \"Topic10\", \"Topic10\", \"Topic10\", \"Topic10\", \"Topic11\", \"Topic11\", \"Topic11\", \"Topic11\", \"Topic11\", \"Topic11\", \"Topic11\", \"Topic11\", \"Topic11\", \"Topic11\", \"Topic11\", \"Topic11\", \"Topic11\", \"Topic11\", \"Topic11\", \"Topic11\", \"Topic11\", \"Topic11\", \"Topic11\", \"Topic11\", \"Topic11\", \"Topic11\", \"Topic11\", \"Topic11\", \"Topic11\", \"Topic11\", \"Topic11\", \"Topic11\", \"Topic11\", \"Topic11\", \"Topic11\", \"Topic11\", \"Topic11\", \"Topic11\", \"Topic11\", \"Topic11\", \"Topic11\", \"Topic11\", \"Topic11\", \"Topic11\", \"Topic12\", \"Topic12\", \"Topic12\", \"Topic12\", \"Topic12\", \"Topic12\", \"Topic12\", \"Topic12\", \"Topic12\", \"Topic12\", \"Topic12\", \"Topic12\", \"Topic12\", \"Topic12\", \"Topic12\", \"Topic12\", \"Topic12\", \"Topic12\", \"Topic12\", \"Topic12\", \"Topic12\", \"Topic12\", \"Topic12\", \"Topic12\", \"Topic12\", \"Topic12\", \"Topic12\", \"Topic12\", \"Topic12\", \"Topic12\", \"Topic12\", \"Topic12\", \"Topic12\", \"Topic12\", \"Topic12\", \"Topic12\", \"Topic12\", \"Topic12\", \"Topic12\", \"Topic12\", \"Topic12\", \"Topic13\", \"Topic13\", \"Topic13\", \"Topic13\", \"Topic13\", \"Topic13\", \"Topic13\", \"Topic13\", \"Topic13\", \"Topic13\", \"Topic13\", \"Topic13\", \"Topic13\", \"Topic13\", \"Topic13\", \"Topic13\", \"Topic13\", \"Topic13\", \"Topic13\", \"Topic13\", \"Topic13\", \"Topic13\", \"Topic13\", \"Topic13\", \"Topic13\", \"Topic13\", \"Topic13\", \"Topic13\", \"Topic13\", \"Topic13\", \"Topic13\", \"Topic13\", \"Topic13\", \"Topic13\", \"Topic13\", \"Topic14\", \"Topic14\", \"Topic14\", \"Topic14\", \"Topic14\", \"Topic14\", \"Topic14\", \"Topic14\", \"Topic14\", \"Topic14\", \"Topic14\", \"Topic14\", \"Topic14\", \"Topic14\", \"Topic14\", \"Topic14\", \"Topic14\", \"Topic14\", \"Topic14\", \"Topic14\", \"Topic14\", \"Topic14\", \"Topic14\", \"Topic14\", \"Topic14\", \"Topic14\", \"Topic14\", \"Topic14\", \"Topic14\", \"Topic14\", \"Topic14\", \"Topic14\", \"Topic14\", \"Topic15\", \"Topic15\", \"Topic15\", \"Topic15\", \"Topic15\", \"Topic15\", \"Topic15\", \"Topic15\", \"Topic15\", \"Topic15\", \"Topic15\", \"Topic15\", \"Topic15\", \"Topic15\", \"Topic15\", \"Topic15\", \"Topic15\", \"Topic15\", \"Topic15\", \"Topic15\", \"Topic15\", \"Topic15\", \"Topic15\", \"Topic15\", \"Topic15\", \"Topic15\", \"Topic15\", \"Topic15\", \"Topic15\", \"Topic15\", \"Topic15\", \"Topic15\", \"Topic15\", \"Topic16\", \"Topic16\", \"Topic16\", \"Topic16\", \"Topic16\", \"Topic16\", \"Topic16\", \"Topic16\", \"Topic16\", \"Topic16\", \"Topic16\", \"Topic16\", \"Topic16\", \"Topic16\", \"Topic16\", \"Topic16\", \"Topic16\", \"Topic16\", \"Topic16\", \"Topic16\", \"Topic16\", \"Topic16\", \"Topic16\", \"Topic16\", \"Topic16\", \"Topic16\", \"Topic16\", \"Topic16\", \"Topic16\", \"Topic16\", \"Topic16\", \"Topic17\", \"Topic17\", \"Topic17\", \"Topic17\", \"Topic17\", \"Topic17\", \"Topic17\", \"Topic17\", \"Topic17\", \"Topic17\", \"Topic17\", \"Topic17\", \"Topic17\", \"Topic17\", \"Topic17\", \"Topic17\", \"Topic17\", \"Topic17\", \"Topic17\", \"Topic17\", \"Topic17\", \"Topic17\", \"Topic17\", \"Topic17\", \"Topic17\", \"Topic17\", \"Topic17\", \"Topic17\", \"Topic17\", \"Topic17\", \"Topic17\", \"Topic17\", \"Topic17\", \"Topic17\", \"Topic17\", \"Topic17\", \"Topic18\", \"Topic18\", \"Topic18\", \"Topic18\", \"Topic18\", \"Topic18\", \"Topic18\", \"Topic18\", \"Topic18\", \"Topic18\", \"Topic18\", \"Topic18\", \"Topic18\", \"Topic18\", \"Topic18\", \"Topic18\", \"Topic18\", \"Topic18\", \"Topic18\", \"Topic18\", \"Topic18\", \"Topic18\", \"Topic18\", \"Topic18\", \"Topic18\", \"Topic18\", \"Topic18\", \"Topic18\", \"Topic18\", \"Topic18\", \"Topic18\", \"Topic18\", \"Topic18\", \"Topic18\", \"Topic18\", \"Topic18\", \"Topic18\", \"Topic18\", \"Topic19\", \"Topic19\", \"Topic19\", \"Topic19\", \"Topic19\", \"Topic19\", \"Topic19\", \"Topic19\", \"Topic19\", \"Topic19\", \"Topic19\", \"Topic19\", \"Topic19\", \"Topic19\", \"Topic19\", \"Topic19\", \"Topic19\", \"Topic19\", \"Topic19\", \"Topic19\", \"Topic19\", \"Topic19\", \"Topic19\", \"Topic19\", \"Topic19\", \"Topic19\", \"Topic19\", \"Topic19\", \"Topic19\", \"Topic19\", \"Topic19\", \"Topic19\", \"Topic19\", \"Topic20\", \"Topic20\", \"Topic20\", \"Topic20\", \"Topic20\", \"Topic20\", \"Topic20\", \"Topic20\", \"Topic20\", \"Topic20\", \"Topic20\", \"Topic20\", \"Topic20\", \"Topic20\", \"Topic20\", \"Topic20\", \"Topic20\", \"Topic20\", \"Topic20\", \"Topic20\", \"Topic20\", \"Topic20\", \"Topic20\", \"Topic20\", \"Topic20\", \"Topic20\", \"Topic20\", \"Topic20\", \"Topic20\", \"Topic20\", \"Topic20\", \"Topic20\", \"Topic20\", \"Topic20\", \"Topic20\"], \"logprob\": [30.0, 29.0, 28.0, 27.0, 26.0, 25.0, 24.0, 23.0, 22.0, 21.0, 20.0, 19.0, 18.0, 17.0, 16.0, 15.0, 14.0, 13.0, 12.0, 11.0, 10.0, 9.0, 8.0, 7.0, 6.0, 5.0, 4.0, 3.0, 2.0, 1.0, -4.0209, -4.6541, -5.0024, -5.0721, -5.1981, -5.2662, -5.2757, -5.2775, -5.0697, -5.3273, -5.3608, -5.3771, -5.3913, -5.3925, -5.6631, -5.6809, -5.7382, -5.8061, -5.8427, -5.8722, -5.9615, -5.9636, -5.9933, -6.0973, -6.1677, -6.1709, -6.225, -6.2729, -6.3438, -6.3503, -4.1928, -4.179, -4.9459, -5.2779, -5.0527, -3.7643, -5.3793, -4.7808, -5.317, -4.3329, -5.1004, -4.5844, -4.7962, -4.6579, -4.6385, -4.4631, -4.2221, -4.2543, -4.3384, -4.989, -4.6653, -4.8507, -4.817, -4.8295, -4.9632, -4.928, -4.5966, -4.9162, -4.9924, -4.9521, -4.9631, -5.0454, -4.0704, -4.0844, -4.2055, -4.5786, -4.7665, -4.7813, -4.8422, -5.0004, -5.1912, -5.2464, -5.2501, -5.2595, -5.2667, -5.2709, -5.2725, -5.283, -5.3133, -5.3174, -5.3677, -5.3864, -5.3957, -5.4447, -5.4484, -5.5768, -5.6659, -5.7702, -5.8301, -5.8553, -5.9706, -6.007, -5.7527, -5.6351, -4.7584, -5.5822, -4.2962, -4.9634, -4.6636, -5.2362, -5.0228, -4.4454, -3.8309, -4.4189, -4.8286, -3.9504, -4.6295, -4.4944, -4.795, -4.908, -5.1707, -4.9489, -5.1822, -5.0434, -5.1058, -4.5897, -4.595, -5.1141, -5.0271, -4.9654, -4.8754, -5.0327, -2.8823, -2.9938, -3.721, -4.0144, -4.4378, -4.4767, -4.5085, -4.8247, -5.007, -5.1216, -5.3288, -5.379, -5.4309, -5.4583, -5.7135, -5.7351, -5.8126, -5.8591, -5.9381, -5.962, -6.0002, -6.0744, -6.0856, -6.1316, -6.1707, -6.2353, -6.2584, -6.2694, -6.3644, -6.3713, -3.5564, -2.5822, -2.0409, -5.03, -4.7954, -4.6032, -4.8757, -2.7723, -5.7744, -2.6042, -4.4912, -4.951, -4.3398, -4.3173, -4.9901, -4.5714, -5.0429, -4.3577, -4.4948, -4.4691, -4.9633, -4.7699, -4.7915, -4.8861, -4.9073, -3.7765, -4.2618, -4.3498, -4.5774, -4.6421, -4.6448, -4.6765, -4.8239, -4.8243, -4.8264, -4.8768, -4.8769, -4.8891, -4.935, -4.9422, -5.0077, -5.0806, -5.2279, -5.2871, -5.4152, -5.5324, -5.5619, -5.5693, -5.6276, -5.6579, -5.6804, -5.7519, -5.7634, -5.8044, -5.8098, -4.0336, -3.7459, -5.089, -4.4993, -5.0658, -4.4183, -4.8418, -4.8916, -3.4352, -4.496, -4.4586, -4.5699, -4.2676, -3.5866, -4.1347, -4.4395, -4.5126, -4.5793, -4.5294, -4.6181, -4.3641, -4.5013, -4.4694, -4.7734, -4.7191, -4.023, -4.1735, -4.311, -4.5467, -4.5562, -4.6824, -4.7727, -4.8336, -4.855, -4.9632, -5.0082, -5.0181, -5.0785, -3.5739, -5.1014, -5.1326, -5.1569, -5.1662, -5.1851, -5.324, -5.3489, -5.3557, -5.386, -5.4106, -5.4414, -5.4749, -5.4809, -5.5295, -5.5352, -5.5487, -5.1124, -5.4503, -4.7748, -4.7295, -4.0869, -4.047, -4.9477, -5.3032, -5.1604, -5.1258, -3.4649, -5.1638, -4.5125, -4.1125, -4.7416, -5.0847, -5.097, -5.1553, -0.2678, -3.3595, -3.7291, -4.2825, -4.5036, -5.1658, -5.1681, -5.2875, -5.515, -5.7208, -5.8903, -5.9157, -5.9445, -6.0177, -6.0964, -6.1159, -6.3279, -6.4339, -6.4539, -6.4899, -6.7201, -6.9781, -7.1109, -7.6929, -7.7077, -7.8505, -7.966, -13.0733, -13.0911, -13.0912, -8.5212, -9.3178, -3.8656, -4.0258, -4.3732, -4.4171, -4.5359, -4.6505, -4.7552, -4.7898, -4.8038, -4.8166, -4.8852, -4.9475, -4.954, -4.9588, -4.9621, -4.9821, -5.0126, -5.0422, -5.1131, -5.1596, -5.1628, -5.1763, -5.2214, -5.4051, -5.4747, -5.4882, -5.4998, -5.5203, -5.5294, -5.5374, -4.966, -4.1552, -4.227, -4.2888, -3.962, -4.7067, -4.4058, -4.4835, -3.9484, -4.3942, -3.9589, -4.6417, -4.4077, -4.771, -4.5181, -4.6199, -4.9039, -4.937, -4.837, -4.8804, -2.8002, -3.5793, -3.6069, -3.6832, -3.8071, -3.9597, -4.0594, -4.0605, -4.2432, -4.2519, -4.2864, -4.3304, -4.4305, -4.5712, -4.6976, -4.7139, -4.7636, -4.7895, -4.8328, -4.8614, -4.8917, -4.9368, -4.9469, -4.9516, -4.991, -4.9991, -5.0994, -5.1341, -5.1478, -5.1528, -3.8904, -4.6197, -4.1215, -4.9355, -4.5448, -4.6241, -4.8224, -4.7191, -4.6067, -2.5602, -2.6255, -2.9466, -2.999, -3.0227, -3.4596, -3.6722, -3.9946, -4.0162, -4.0827, -4.0988, -4.3024, -4.3223, -4.4656, -4.4721, -4.5019, -4.8299, -4.8511, -4.9276, -4.9696, -4.9771, -5.1013, -5.1199, -5.1263, -5.1533, -5.3107, -5.3588, -5.3613, -5.3873, -5.405, -4.4883, -4.8006, -4.3815, -4.8521, -3.6775, -4.3593, -4.1301, -4.7738, -4.7817, -4.742, -4.9408, -2.2475, -3.1554, -3.4803, -3.5595, -3.5656, -3.8056, -4.0169, -4.0673, -4.0823, -4.126, -4.2008, -4.3404, -4.3797, -4.633, -4.7008, -4.7548, -4.8566, -4.8862, -5.0193, -5.0238, -5.1606, -5.2923, -5.3429, -5.3718, -5.4956, -5.5366, -5.5509, -5.6049, -5.634, -5.7581, -4.286, -4.1724, -4.7918, -3.4558, -4.3673, -3.8508, -4.042, -4.0423, -4.3617, -4.3586, -4.4862, -4.7226, -4.7285, -4.8532, -1.8822, -2.4023, -3.3339, -3.7224, -3.7544, -3.8038, -4.0969, -4.1569, -4.243, -4.3949, -4.5892, -4.6036, -4.6078, -4.7811, -4.8176, -4.9133, -4.9163, -4.9584, -4.972, -4.9971, -5.0554, -5.0735, -5.0797, -5.1989, -5.2523, -5.3158, -5.3175, -5.3703, -5.4287, -5.4497, -3.9986, -4.1976, -4.806, -4.2411, -4.2345, -4.494, -4.9512, -4.4694, -4.8956, -4.8751, -3.1297, -3.1585, -3.3318, -3.4356, -3.6798, -3.7109, -3.8166, -3.8627, -3.9752, -4.027, -4.0994, -4.1615, -4.1617, -4.3235, -4.4032, -4.4217, -4.4905, -4.646, -4.8224, -4.8227, -4.9072, -4.9949, -5.0165, -5.1286, -5.1293, -5.1438, -5.1688, -5.2034, -5.34, -5.3546, -2.5479, -4.9046, -3.7865, -3.8571, -4.4546, -3.7696, -4.5762, -4.3305, -4.3155, -4.5344, -4.5987, -2.2426, -3.5324, -3.5378, -3.7225, -3.7487, -3.7558, -3.9097, -3.9598, -3.9835, -4.0242, -4.1049, -4.177, -4.2379, -4.3185, -4.3415, -4.3918, -4.4999, -4.5177, -4.6052, -4.6413, -4.6671, -4.706, -4.7527, -4.7888, -4.8925, -4.9722, -5.021, -5.0278, -5.0283, -5.0523, -3.647, -4.57, -4.5115, -4.3871, -4.8793, -2.823, -3.2411, -3.3186, -3.3245, -3.4375, -3.449, -3.5654, -3.776, -3.788, -3.7894, -3.9373, -4.0165, -4.1406, -4.1547, -4.3393, -4.5551, -4.5554, -4.5982, -4.7497, -4.7552, -4.8589, -4.9475, -4.983, -5.0164, -5.0672, -5.0769, -5.0795, -5.0866, -5.1032, -5.119, -2.7326, -4.1377, -4.9663, -1.3887, -2.8646, -2.8952, -3.4523, -3.7802, -3.8882, -3.9733, -4.0655, -4.5301, -4.5894, -4.6252, -4.7214, -5.1611, -5.3422, -5.5499, -5.8273, -5.8567, -6.3639, -6.7374, -8.9286, -4.0461, -4.9425, -3.1987, -4.5391, -6.757, -5.0206, -6.5707, -5.1974, -11.8093, -11.8094, -5.4178, -6.2546, -6.7156, -2.1836, -2.8192, -2.917, -2.9984, -3.1518, -3.201, -3.2907, -3.4125, -4.086, -4.2144, -4.3242, -4.3626, -4.4867, -4.8063, -5.1, -5.2597, -5.3708, -5.9092, -3.2108, -3.5066, -4.6638, -11.734, -11.7341, -11.7341, -11.7342, -11.7343, -11.7344, -11.7344, -11.7344, -11.7344, -6.4817, -2.8025, -2.9961, -3.1899, -3.2018, -3.4973, -3.5307, -3.6321, -3.7634, -3.7832, -3.8703, -4.0498, -4.0615, -4.2677, -4.7373, -4.8817, -5.3427, -3.5246, -11.3891, -11.3891, -11.3891, -11.3891, -11.3891, -11.3891, -11.3891, -11.3891, -11.3891, -11.3891, -11.3892, -11.3891, -11.3892, -11.3891, -11.3891, -11.3891, -11.3891, -11.3891, -11.3891, -2.3815, -2.8806, -3.0968, -3.3152, -3.8134, -3.8495, -4.0275, -4.4156, -4.5032, -4.9236, -4.9781, -5.0141, -5.0925, -5.4972, -6.6621, -11.2268, -11.2268, -11.2268, -11.2268, -11.2268, -11.2268, -11.2268, -11.2268, -11.2268, -11.2269, -11.2269, -11.2269, -11.2268, -11.2269, -11.2269, -11.2268, -11.2268, -11.2268, -11.2268, -11.2268, -11.2268, -11.2268, -11.2268, -1.9607, -3.5564, -3.6382, -3.673, -3.7115, -3.8203, -3.9024, -4.2715, -4.6658, -4.9977, -11.1834, -11.1834, -11.1834, -11.1834, -11.1834, -11.1834, -11.1834, -11.1835, -11.1834, -11.1835, -11.1835, -11.1835, -11.1835, -11.1835, -11.1834, -11.1835, -11.1835, -11.1835, -11.1835, -11.1835, -11.1834, -11.1835, -11.1835, -2.6285, -3.4928, -3.867, -3.9364, -4.2032, -4.5494, -4.6029, -4.646, -4.8374, -4.9953, -5.0242, -5.1784, -5.3844, -11.0491, -11.0492, -11.0492, -11.0492, -11.0492, -11.0492, -11.0492, -11.0492, -11.0492, -11.0492, -11.0492, -11.0492, -11.0492, -11.0492, -11.0492, -11.0492, -11.0492, -11.0492, -11.0492, -11.0492, -11.0492, -11.0492], \"loglift\": [30.0, 29.0, 28.0, 27.0, 26.0, 25.0, 24.0, 23.0, 22.0, 21.0, 20.0, 19.0, 18.0, 17.0, 16.0, 15.0, 14.0, 13.0, 12.0, 11.0, 10.0, 9.0, 8.0, 7.0, 6.0, 5.0, 4.0, 3.0, 2.0, 1.0, 1.0666, 1.0664, 1.0663, 1.0663, 1.0662, 1.0662, 1.0662, 1.0662, 1.0662, 1.0662, 1.0661, 1.0661, 1.0661, 1.0661, 1.0659, 1.0659, 1.0659, 1.0658, 1.0658, 1.0658, 1.0657, 1.0657, 1.0656, 1.0655, 1.0654, 1.0654, 1.0654, 1.0653, 1.0652, 1.0652, 1.0597, 1.0563, 1.063, 1.0635, 1.0609, 1.0214, 1.0538, 1.0341, 1.0499, 0.9925, 1.0264, 0.996, 0.9886, 0.9349, 0.9287, 0.8771, 0.7861, 0.7873, 0.7648, 0.9408, 0.7854, 0.8462, 0.751, 0.7185, 0.7675, 0.7237, 0.3822, 0.708, 0.7315, 0.4153, -0.3959, 0.6964, 1.8585, 1.8585, 1.8584, 1.8582, 1.8581, 1.8581, 1.8581, 1.8579, 1.8577, 1.8577, 1.8577, 1.8577, 1.8577, 1.8577, 1.8577, 1.8576, 1.8576, 1.8576, 1.8575, 1.8575, 1.8575, 1.8574, 1.8574, 1.8572, 1.8571, 1.8569, 1.8568, 1.8567, 1.8565, 1.8564, 1.8558, 1.854, 1.8421, 1.8512, 1.8088, 1.7676, 1.7009, 1.7883, 1.7377, 1.5032, 1.1479, 1.4054, 1.5866, 1.1502, 1.4469, 1.2911, 1.3855, 1.473, 1.718, 1.3768, 1.7238, 1.4971, 1.5637, 0.5135, 0.4466, 1.5295, 1.2115, 0.6588, -0.3082, 0.3347, 2.3878, 2.3878, 2.3875, 2.3874, 2.3871, 2.3871, 2.3871, 2.3867, 2.3865, 2.3863, 2.3859, 2.3858, 2.3857, 2.3856, 2.3849, 2.3849, 2.3846, 2.3844, 2.3842, 2.3841, 2.3839, 2.3836, 2.3836, 2.3834, 2.3832, 2.3828, 2.3827, 2.3827, 2.3821, 2.3821, 2.3666, 2.3368, 2.2851, 2.353, 2.3396, 2.2959, 2.2828, 2.0983, 2.3542, 1.963, 2.1486, 2.1864, 1.9412, 1.7802, 1.8806, 1.5263, 1.8674, 1.2323, 1.2777, 0.9815, 1.657, 1.1787, 0.9392, 0.4594, 0.1009, 2.3953, 2.395, 2.3949, 2.3947, 2.3947, 2.3947, 2.3946, 2.3945, 2.3945, 2.3945, 2.3944, 2.3944, 2.3944, 2.3943, 2.3943, 2.3942, 2.3941, 2.3938, 2.3937, 2.3935, 2.3932, 2.3931, 2.3931, 2.3929, 2.3928, 2.3928, 2.3926, 2.3925, 2.3924, 2.3924, 2.3906, 2.3872, 2.3868, 2.3597, 2.3534, 2.2813, 2.3171, 2.3022, 2.0825, 2.2297, 2.213, 2.2073, 2.0574, 1.7588, 1.8736, 1.9486, 1.9741, 1.9585, 1.7248, 1.8688, 1.3735, 1.0667, 0.8981, 1.9104, 0.871, 2.5745, 2.5744, 2.5743, 2.574, 2.574, 2.5739, 2.5737, 2.5737, 2.5736, 2.5734, 2.5734, 2.5734, 2.5732, 2.5732, 2.5732, 2.5731, 2.5731, 2.5731, 2.573, 2.5727, 2.5726, 2.5726, 2.5725, 2.5725, 2.5724, 2.5723, 2.5723, 2.5721, 2.5721, 2.5721, 2.5687, 2.5686, 2.5264, 2.4857, 2.4004, 2.3564, 2.4625, 2.5415, 2.4842, 2.4571, 1.6357, 2.4692, 2.0709, 1.6578, 1.9442, 2.3242, 2.2253, 2.3457, 2.9202, 2.9198, 2.9196, 2.9191, 2.9188, 2.9175, 2.9175, 2.9171, 2.9163, 2.9154, 2.9145, 2.9143, 2.9142, 2.9137, 2.9132, 2.913, 2.9113, 2.9103, 2.9101, 2.9098, 2.9071, 2.9032, 2.9008, 2.8857, 2.8852, 2.88, 2.8751, 0.7655, 0.7497, 0.7496, -2.2401, -2.9764, 2.9711, 2.9709, 2.9705, 2.9704, 2.9702, 2.97, 2.9698, 2.9698, 2.9697, 2.9697, 2.9695, 2.9694, 2.9694, 2.9694, 2.9694, 2.9693, 2.9692, 2.9691, 2.9689, 2.9688, 2.9688, 2.9687, 2.9686, 2.9679, 2.9676, 2.9676, 2.9675, 2.9674, 2.9674, 2.9674, 2.9649, 2.9306, 2.9082, 2.8911, 2.8207, 2.8794, 2.8283, 2.7021, 2.4059, 2.6077, 2.386, 2.4986, 1.8465, 2.3421, 1.0299, 1.3724, 2.6475, 2.6391, 0.9872, 0.892, 3.8434, 3.8426, 3.8425, 3.8424, 3.8422, 3.8419, 3.8416, 3.8416, 3.8411, 3.8411, 3.841, 3.8409, 3.8405, 3.84, 3.8394, 3.8394, 3.8391, 3.839, 3.8388, 3.8386, 3.8384, 3.8382, 3.8381, 3.8381, 3.8378, 3.8378, 3.8371, 3.8369, 3.8368, 3.8367, 3.8018, 3.6645, 3.3576, 3.5901, 2.8638, 3.0091, 3.3587, 2.5396, 1.7743, 3.8792, 3.8791, 3.8789, 3.8788, 3.8788, 3.8783, 3.878, 3.8773, 3.8773, 3.8771, 3.877, 3.8764, 3.8764, 3.8758, 3.8758, 3.8757, 3.8741, 3.874, 3.8736, 3.8733, 3.8732, 3.8724, 3.8723, 3.8722, 3.872, 3.8707, 3.8702, 3.8702, 3.87, 3.8698, 3.7248, 3.7543, 3.1378, 3.4079, 1.8705, 2.5575, 1.8781, 3.1173, 2.7791, 1.5933, 2.5955, 3.9906, 3.9899, 3.9895, 3.9893, 3.9893, 3.9888, 3.9883, 3.9882, 3.9881, 3.988, 3.9877, 3.9872, 3.9871, 3.9859, 3.9856, 3.9853, 3.9847, 3.9845, 3.9835, 3.9835, 3.9824, 3.9812, 3.9807, 3.9804, 3.9789, 3.9784, 3.9783, 3.9776, 3.9772, 3.9753, 3.9097, 3.7419, 3.8067, 3.2301, 3.2568, 2.8331, 2.5783, 2.3612, 2.5486, 0.9869, 1.0315, 1.6317, 1.5965, 2.2842, 4.0554, 4.0551, 4.0542, 4.0535, 4.0534, 4.0533, 4.0525, 4.0523, 4.052, 4.0514, 4.0505, 4.0504, 4.0504, 4.0494, 4.0491, 4.0485, 4.0485, 4.0481, 4.048, 4.0478, 4.0474, 4.0472, 4.0472, 4.0461, 4.0456, 4.0449, 4.0449, 4.0443, 4.0435, 4.0434, 3.7254, 3.6333, 3.6915, 3.0825, 2.9992, 2.6202, 3.4249, 2.1063, 3.1544, 1.8245, 4.1296, 4.1295, 4.1293, 4.1291, 4.1286, 4.1285, 4.1283, 4.1281, 4.1278, 4.1277, 4.1274, 4.1272, 4.1272, 4.1265, 4.1262, 4.1261, 4.1258, 4.1249, 4.1237, 4.1237, 4.1231, 4.1224, 4.1222, 4.1212, 4.1212, 4.1211, 4.1208, 4.1205, 4.1189, 4.1188, 4.0615, 4.0732, 3.9136, 3.9094, 3.7233, 3.2072, 3.4798, 3.1132, 2.9974, 2.9447, 3.0382, 4.3914, 4.3895, 4.3895, 4.389, 4.3889, 4.3889, 4.3884, 4.3882, 4.3881, 4.3879, 4.3875, 4.3872, 4.3869, 4.3865, 4.3863, 4.386, 4.3854, 4.3852, 4.3846, 4.3843, 4.3841, 4.3838, 4.3834, 4.3831, 4.3821, 4.3813, 4.3808, 4.3807, 4.3807, 4.3804, 3.7118, 4.1154, 3.8024, 2.627, 3.7994, 4.469, 4.4683, 4.4682, 4.4682, 4.4679, 4.4679, 4.4675, 4.4669, 4.4668, 4.4668, 4.4663, 4.4659, 4.4653, 4.4653, 4.4642, 4.4627, 4.4627, 4.4624, 4.4611, 4.4611, 4.46, 4.4591, 4.4587, 4.4583, 4.4577, 4.4575, 4.4575, 4.4574, 4.4572, 4.457, 4.2815, 2.5881, 2.9479, 5.0839, 5.0818, 5.0817, 5.0797, 5.0779, 5.0772, 5.0765, 5.0757, 5.0706, 5.0698, 5.0693, 5.0677, 5.0586, 5.0536, 5.0466, 5.0348, 5.0333, 5.001, 4.9653, 4.3275, 4.2678, 4.2261, 3.1422, 2.6548, 2.5049, 2.4934, 2.4678, 2.1957, 2.0315, 2.0314, 1.7181, 1.4003, 0.8305, 5.4387, 5.437, 5.4366, 5.4363, 5.4356, 5.4353, 5.4348, 5.4341, 5.4278, 5.4261, 5.4244, 5.4238, 5.4216, 5.4145, 5.4057, 5.3998, 5.3951, 5.3638, 5.1462, 3.9377, 3.4255, 2.1068, 2.1067, 2.1067, 2.1067, 2.1066, 2.1065, 2.1065, 2.1065, 2.1064, 1.2983, 5.8212, 5.8201, 5.8187, 5.8186, 5.816, 5.8156, 5.8145, 5.8128, 5.8125, 5.8113, 5.8083, 5.8081, 5.8039, 5.7907, 5.7852, 5.7618, 5.7374, 2.4518, 2.4518, 2.4518, 2.4517, 2.4517, 2.4517, 2.4517, 2.4517, 2.4517, 2.4517, 2.4517, 2.4517, 2.4517, 2.4517, 2.4517, 2.4517, 2.4517, 2.4517, 2.4516, 6.2073, 6.204, 6.2019, 6.1994, 6.1912, 6.1904, 6.1862, 6.174, 6.1705, 6.1493, 6.1459, 6.1436, 6.1382, 6.1031, 5.8975, 2.6141, 2.6141, 2.6141, 2.6141, 2.6141, 2.6141, 2.614, 2.614, 2.614, 2.614, 2.614, 2.614, 2.614, 2.614, 2.614, 2.614, 2.614, 2.614, 2.614, 2.614, 2.614, 2.614, 2.614, 6.4401, 6.4235, 6.4218, 6.421, 6.4201, 6.4173, 6.4151, 6.4023, 6.3826, 6.3593, 2.6575, 2.6575, 2.6575, 2.6575, 2.6575, 2.6574, 2.6574, 2.6574, 2.6574, 2.6574, 2.6574, 2.6574, 2.6574, 2.6574, 2.6574, 2.6574, 2.6574, 2.6574, 2.6574, 2.6574, 2.6574, 2.6574, 2.6574, 6.9028, 6.8848, 6.8709, 6.8678, 6.8534, 6.8286, 6.824, 6.8201, 6.801, 6.7826, 6.7789, 6.7578, 6.7248, 2.7917, 2.7917, 2.7917, 2.7917, 2.7917, 2.7917, 2.7917, 2.7917, 2.7917, 2.7917, 2.7917, 2.7917, 2.7917, 2.7917, 2.7917, 2.7917, 2.7917, 2.7917, 2.7917, 2.7917, 2.7917, 2.7916]}, \"token.table\": {\"Topic\": [9, 2, 15, 6, 1, 4, 16, 10, 1, 2, 18, 10, 1, 2, 4, 5, 7, 16, 4, 6, 4, 15, 2, 12, 3, 17, 3, 5, 2, 8, 1, 2, 3, 14, 10, 9, 9, 5, 10, 12, 8, 11, 17, 4, 7, 10, 9, 8, 14, 6, 1, 1, 9, 2, 9, 1, 11, 3, 9, 6, 1, 4, 10, 3, 5, 5, 12, 1, 7, 7, 2, 12, 17, 8, 3, 3, 12, 1, 3, 12, 17, 9, 7, 6, 11, 3, 4, 1, 5, 13, 1, 2, 4, 5, 13, 10, 5, 7, 6, 2, 14, 1, 8, 3, 4, 10, 2, 8, 7, 5, 2, 2, 15, 10, 10, 3, 8, 17, 4, 3, 11, 1, 2, 7, 8, 10, 2, 7, 18, 3, 4, 16, 12, 5, 9, 12, 3, 7, 1, 3, 4, 5, 7, 3, 6, 18, 5, 3, 4, 12, 11, 3, 1, 15, 13, 14, 5, 1, 1, 5, 12, 3, 3, 2, 4, 15, 13, 5, 10, 10, 16, 3, 9, 6, 1, 5, 3, 10, 5, 19, 5, 9, 19, 5, 12, 1, 16, 7, 14, 2, 10, 12, 12, 7, 10, 11, 10, 18, 7, 4, 15, 5, 1, 2, 4, 6, 4, 11, 6, 2, 16, 4, 4, 10, 3, 8, 20, 7, 9, 1, 4, 15, 5, 16, 13, 2, 14, 11, 4, 11, 19, 10, 2, 13, 7, 3, 4, 12, 10, 1, 6, 13, 11, 15, 4, 13, 15, 13, 8, 11, 1, 2, 5, 6, 2, 20, 2, 4, 14, 2, 4, 12, 2, 10, 17, 12, 13, 7, 1, 2, 5, 7, 9, 7, 9, 12, 1, 4, 11, 4, 7, 12, 14, 5, 10, 13, 1, 5, 4, 19, 1, 7, 9, 1, 5, 5, 1, 2, 8, 9, 14, 18, 13, 3, 1, 8, 13, 1, 2, 3, 4, 7, 9, 15, 5, 14, 1, 11, 13, 4, 12, 17, 9, 4, 11, 12, 6, 1, 4, 13, 14, 1, 8, 1, 2, 17, 12, 1, 7, 2, 1, 2, 9, 6, 5, 10, 6, 1, 2, 8, 2, 5, 11, 13, 1, 2, 4, 5, 7, 1, 5, 1, 9, 14, 1, 4, 19, 15, 5, 16, 1, 1, 3, 4, 20, 1, 3, 4, 7, 11, 11, 1, 9, 14, 1, 3, 1, 2, 4, 9, 2, 5, 6, 14, 7, 9, 4, 1, 4, 13, 14, 15, 7, 2, 4, 5, 7, 1, 5, 7, 2, 20, 4, 7, 10, 8, 8, 4, 7, 4, 11, 14, 18, 3, 7, 4, 12, 3, 9, 20, 8, 17, 5, 2, 5, 10, 12, 19, 2, 5, 15, 10, 3, 7, 5, 16, 1, 2, 3, 7, 3, 5, 12, 1, 9, 13, 2, 5, 14, 15, 16, 1, 2, 1, 2, 7, 5, 10, 14, 2, 5, 11, 1, 11, 1, 3, 1, 1, 2, 5, 18, 1, 1, 3, 4, 1, 9, 1, 2, 1, 3, 7, 11, 13, 16, 13, 1, 3, 4, 4, 19, 3, 4, 1, 2, 8, 18, 1, 2, 5, 8, 4, 1, 2, 4, 5, 13, 2, 7, 2, 1, 1, 2, 16, 16, 5, 8, 5, 4, 2, 3, 4, 10, 14, 4, 11, 5, 1, 11, 13, 4, 14, 17, 12, 1, 15, 13, 18, 6, 14, 1, 8, 10, 4, 1, 19, 13, 15, 1, 2, 5, 8, 8, 7, 1, 2, 3, 4, 10, 1, 2, 3, 4, 7, 11, 3, 11, 15, 3, 13, 1, 4, 5, 7, 12, 9, 13, 12, 10, 12, 5, 9, 11, 1, 12, 7, 3, 6, 13, 1, 2, 3, 9, 3, 13, 4, 11, 1, 12, 8, 13, 1, 2, 6, 7, 10, 12, 7, 9, 16, 4, 7, 1, 2, 5, 8, 8, 8, 10, 12, 3, 10, 6, 1, 9, 14, 12, 9, 16, 20, 13, 9, 7, 15, 19, 1, 2, 7, 9, 5, 14, 4, 20, 1, 2, 15, 18, 7, 1, 2, 3, 4, 1, 2, 3, 5, 11, 13, 6, 12, 1, 16, 3, 17, 3, 10, 1, 10, 1, 1, 2, 4, 8, 12, 9, 4, 13, 14, 5, 18, 1, 10, 2, 18, 14, 5, 10, 17, 5, 15, 2, 1, 12, 14, 1, 2, 3, 4, 11, 12, 7, 3, 5, 7, 1, 2, 1, 1, 2, 4, 8, 12, 1, 2, 2, 12, 8, 2, 2, 8, 1, 1, 12, 3, 8, 1, 7, 8, 7, 3, 12, 10, 9, 11, 11, 1, 2, 5, 10, 20, 5, 8, 11, 13, 8, 15, 17, 10, 2, 1, 4, 9, 14, 8, 1, 6, 3, 13, 13, 1, 2, 5, 8, 14, 14, 4, 14, 1, 12, 16, 9, 4, 20, 4, 7, 10, 10, 2, 10, 12, 10, 10, 1, 2, 5, 11, 1, 3, 2, 11, 8, 18, 5, 10, 1, 7, 1, 2, 4, 6, 6, 13, 7, 6, 7, 1, 3, 7, 14, 15, 13, 4, 13, 5, 8, 14, 8, 1, 2, 4, 7, 8, 16, 13, 13, 11, 2, 17, 17, 4, 11, 6, 9, 11, 9, 13, 1, 9, 2, 5, 2, 17, 19, 20, 1, 11, 2, 5, 7, 16, 20, 17, 5, 10, 11, 1, 2, 4, 5, 1, 2, 7, 2, 4, 10, 13, 1, 2, 5, 2, 10, 7, 10, 6, 9, 9, 7, 3, 7, 10, 13, 20, 16, 1, 2, 8, 10, 10, 3, 18, 2, 13, 1, 2, 1, 2, 11, 1, 2, 11, 1, 2, 8, 10, 1, 15, 6, 7, 12, 14, 11, 2, 5, 16, 5, 16, 5, 15, 2, 2, 1, 2, 4, 8, 8, 4, 14, 12, 2, 7, 8, 9, 3, 4, 8, 18, 20, 3, 15, 1, 2, 3, 4, 10, 4, 10, 15, 1, 2, 15, 14, 1, 13, 10, 15, 4, 3, 4, 2, 4, 5, 8, 8, 8, 15, 1, 2, 3, 5, 10, 1, 2, 8, 5, 1, 11, 1, 2, 15, 9, 11, 15, 9, 10, 11, 5, 8, 2, 1, 3, 4, 8, 6, 1, 2, 5, 8, 1, 2, 3, 1, 5, 7, 8, 9, 1, 8, 9], \"Freq\": [0.9905802531502407, 0.9991371577622206, 0.8431198983337663, 0.9950162878487886, 0.1706848428171051, 0.8282635002041197, 0.9544447552310314, 0.9957560329233667, 0.13076205689590387, 0.8689594827442914, 0.9721331967029829, 0.9889743090496382, 0.5212653766332705, 0.21787198921403342, 0.2236841230726395, 0.000166060967388745, 0.03686553476030139, 0.9932481127827751, 0.9969991287693976, 0.990807546539051, 0.9108332508093671, 0.08767930500429921, 0.9922291109433139, 0.006553692938859405, 0.9982911728070236, 0.964256561721165, 0.9974483215515576, 0.9963454321570224, 0.9985220723543403, 0.9989507545206118, 0.18268332672703214, 0.06870833084866253, 0.7485166395983707, 0.9969013005143933, 0.9911162576938255, 0.9971656850715739, 0.9987379051724934, 0.9146574563005837, 0.08430022638715057, 0.9973834842444601, 0.9987113163086039, 0.9940610412206144, 0.9910465739790371, 0.832736152778544, 0.13093720550669244, 0.034875797728418076, 0.9973760734273861, 0.8347960444809209, 0.15959336144488193, 0.9999853145530714, 0.9994678623483427, 0.9992895539473027, 0.9983662851705437, 0.9996604691417822, 0.9977009194751499, 0.9992598482382266, 0.9983861081293393, 0.9969999562577357, 0.9916980476101184, 0.9573303838161937, 0.19555079745961426, 0.7129816686138148, 0.09128588111499693, 0.2199889488087462, 0.7776353539285912, 0.9976447200840212, 0.9947011481673053, 0.27580173301075916, 0.7226890330228448, 0.9949276795373841, 0.0661286044361183, 0.9332758695636522, 0.9955419048236559, 0.9970023183393807, 0.9940933319204326, 0.9984635676327761, 0.9921748945056096, 0.21219072463899538, 0.787120900336832, 0.9959463333156928, 0.9774717542148403, 0.9920963215810318, 0.9969138694469329, 0.9964414959659369, 0.9992178691224196, 0.004777532082472202, 0.9946821795707125, 0.2709459908203964, 0.7049287466799058, 0.0222856009765694, 0.17781483425189895, 0.6623349518718741, 0.08468979771769759, 0.0745675111378931, 0.9872413790021204, 0.9904647578114832, 0.37642383127480755, 0.622810339018318, 0.992587661975975, 0.998078703699447, 0.9984009980635451, 0.998561676818118, 0.9995868671969712, 0.06999652379223953, 0.6157216340662486, 0.31405519966960566, 0.9974985288380247, 0.9989650754879666, 0.9971229799761118, 0.9979026438405414, 0.9996425983587629, 0.9989063564842545, 0.9832211782645529, 0.9985937807761787, 0.9966614761224036, 0.9943294819393937, 0.994694398806248, 0.9926727675330194, 0.9991304861820175, 0.9988621117984751, 0.9907748114335582, 0.8710065992597239, 0.12857233618874622, 0.9975814828856698, 0.959255168712944, 0.03904932545203135, 0.28118865251850433, 0.7165775338374787, 0.9348726722264273, 0.34331530998356785, 0.656113703524152, 0.9953325008248747, 0.9960186396052131, 0.7951751663664124, 0.2033516739385005, 0.9938620192744518, 0.08703678707287879, 0.9115958225001516, 0.06279697348953885, 0.006660285067072301, 0.05233081124128237, 0.34538335419246363, 0.5328228053657841, 0.997911835537702, 0.9982363591772514, 0.9541069929960858, 0.9972915142966878, 0.9931608296643379, 0.6019486435678133, 0.3968709677591927, 0.9911312370757055, 0.9960574405457603, 0.9200141452378034, 0.07177415317458041, 0.1714979804384546, 0.8281887397053008, 0.999108182044389, 0.9988548446534253, 0.46013172527186774, 0.21728442582282642, 0.32185981793006907, 0.9987233363001891, 0.9957747566281744, 0.7651215950235579, 0.19858117733435854, 0.03407030003285563, 0.9925197663578741, 0.9978940690790643, 0.9957534039270353, 0.9924565675747379, 0.9787240253745717, 0.9971340372903782, 0.990718182213233, 0.9966556046619464, 0.9942427282814886, 0.0056033404904909535, 0.9666609531872066, 0.031521552821321956, 0.9993168410595822, 0.9281897306334375, 0.37145788580856487, 0.623090647162754, 0.9741013973282576, 0.19751128564729997, 0.8010179917918276, 0.9825159997571536, 0.016684233958140345, 0.9961865802481361, 0.9939656371646511, 0.6343797123864513, 0.0026487670663317385, 0.3615567045542823, 0.9967656629168977, 0.9226134953711358, 0.018309859886086487, 0.05798122297260721, 0.9930932546285857, 0.9234330643960705, 0.9967362110253364, 0.9980978239703167, 0.9606855889039804, 0.998943637824792, 0.12256096184733646, 0.7193019556962611, 0.15766337325021437, 0.9989920968447734, 0.9955141639214291, 0.9869174527181794, 0.9959559075944946, 0.998823661796738, 0.9967884052424566, 0.998269185519433, 0.9980801378576171, 0.9833408110400784, 0.9000916846955415, 0.09857198759387013, 0.9328763817524539, 0.5228017719524158, 0.4756639072681816, 0.6254872674226658, 0.23076656036324633, 0.14329504510174915, 0.9972571830778515, 0.990939525325428, 0.9947190639079823, 0.9968208590317261, 0.9949675698726836, 0.9996941990300832, 0.8916735557551825, 0.10760492451244616, 0.9966621993225571, 0.9951311031068799, 0.4926655272871971, 0.5060465662999358, 0.997996609833329, 0.6017843448717128, 0.39720753284336385, 0.9884580502419541, 0.9977282204466369, 0.9966134558615735, 0.0026388705803925155, 0.9948643717575626, 0.9968788542508523, 0.44286857503593985, 0.9988577786349054, 0.5532834188337594, 0.4426267350670075, 0.9919465494426001, 0.9926471199905006, 0.9922786901129205, 0.6905984391096767, 0.3078716817709223, 0.0014488079142161048, 0.9567292527670729, 0.999732251332451, 0.9478658647512861, 0.8741115407670781, 0.12531510584448377, 0.9959251614428379, 0.9836182804818303, 0.01595672760920698, 0.9936136683917053, 0.9986524236273322, 0.9910815596820963, 0.9886832940080961, 0.9897642267409522, 0.9957414938579484, 0.995237087575907, 0.0009001654200653274, 0.853806900931963, 0.14492663263051772, 0.9979436564620341, 0.9994184109343011, 0.9971285208813877, 0.9965662331431006, 0.9974539192943748, 0.06953598368700958, 0.6915496459831364, 0.23813693043496434, 0.9982445450772361, 0.9937658986386833, 0.004311348801035502, 0.9922691115812156, 0.8888800967913147, 0.016742604562850105, 0.09436740753606424, 0.004707891304065643, 0.9933650651578506, 0.999643683330644, 0.9869723103181898, 0.31487729965759126, 0.2175139241055729, 0.4661012659405134, 0.10501223607513277, 0.8938846436639349, 0.9975885154431986, 0.9248536632321228, 0.002520724075312409, 0.03125697853387387, 0.041339874835123504, 0.9896551004625038, 0.9301642438422992, 0.9940444070196949, 0.9960160062829415, 0.4006932249605311, 0.04097998891641795, 0.5509531843207303, 0.007792889098464594, 0.6173699919116951, 0.015152839913681155, 0.3082520576725995, 0.05022084085677183, 0.9892938640315493, 0.9948542014529997, 0.9990202769663117, 0.9968744163633103, 0.5901021195843279, 0.4055434319777068, 0.9955725607300236, 0.6929039461059406, 0.30597540590420746, 0.9717138247925039, 0.9993166152734724, 0.9973160005940959, 0.9916565639272963, 0.9958273136647503, 0.9921680767838834, 0.9556969101688747, 0.04417905499081134, 0.9924372021523796, 0.9954107672089836, 0.21880122862093235, 0.7775257945636702, 0.7151169025039579, 0.28462364278764496, 0.9549470738331964, 0.9962403526309154, 0.9999081938900477, 0.9980161492544406, 0.9990975378974627, 0.9896941123983741, 0.00814922368685619, 0.0020373059217140476, 0.9952603178169275, 0.8034911380734239, 0.19607617172554723, 0.9992846543461749, 0.9872098116144743, 0.012532937061511882, 0.9982414894547268, 0.06631663540469385, 0.23795969174625442, 0.655364396940504, 0.03900978553217285, 0.19283188669198817, 0.6230529309814918, 0.11083153099189999, 0.06327881330280777, 0.00973520204658581, 0.9990037923970411, 0.9994489581755325, 0.9986379529665936, 0.9868295856372964, 0.9978528706137529, 0.9991383634970418, 0.9989317419033095, 0.9251705957614562, 0.9635165850230388, 0.9977929499425774, 0.9951539604037657, 0.9993205718502809, 0.36916584282245807, 0.422593205695923, 0.20819436887466355, 0.9710304917747781, 0.3685212842231701, 0.011033571383927248, 0.025156542755354127, 0.5565333406052904, 0.03839682841606682, 0.9906865078623961, 0.6654766580687609, 0.3319939479850865, 0.9953487082810188, 0.9992186208273062, 0.9997735464353582, 0.14489091841728466, 0.761861071024219, 0.09280594774440455, 0.9936288215169394, 0.9949898748923829, 0.002771559540090203, 0.9976869074698825, 0.9933396661037766, 0.11264747204228351, 0.8810641563307174, 0.9981574427227605, 0.9988506682253775, 0.9646014461102087, 0.034687274649716764, 0.989165312455268, 0.9846615113808762, 0.9946108648363072, 0.04917734035677746, 0.5111218653474904, 0.11447839886331802, 0.32448982776398244, 0.0773187747155457, 0.05476746542351154, 0.8666145999367414, 0.9976080575183888, 0.8286193999993697, 0.33725283768263403, 0.5675827149374845, 0.09444861504454216, 0.9958754557067512, 0.9954284808986094, 0.9913711073535998, 0.006837042119679999, 0.9588004831618733, 0.04005770212670899, 0.9968343581606335, 0.9768759481115147, 0.9531376012094075, 0.045711701282491995, 0.9980538713526623, 0.9967603332210283, 0.9983914816915386, 0.997351355258351, 0.9243077100857071, 0.9941437449067969, 0.9806411860592531, 0.998541000482127, 0.6966371524356012, 0.21468017024209587, 0.05367004256052397, 0.03434882723873534, 0.9734261136437373, 0.005037293755373794, 0.9940259677270953, 0.9559931879977515, 0.9995813449561486, 0.9659221240763382, 0.032405129323851346, 0.9991417427022278, 0.9822672635897827, 0.7553588334002943, 0.14295586210016314, 0.10156474874269499, 0.9957592477551226, 0.9955120619522767, 0.9974526246072632, 0.996184060897473, 0.8978609838928417, 0.10141370412032097, 0.9966110583825077, 0.15979543307190192, 0.8396893776071279, 0.9882494680924407, 0.9915840352475452, 0.9621924415591693, 0.9835076424484995, 0.016241410609241277, 0.013298686568922746, 0.22198576811201817, 0.7631400138781822, 0.9976851423236881, 0.7801756261873315, 0.2183643736339542, 0.9130417334661912, 0.08636881262518024, 0.9866903755602923, 0.6213286816121109, 0.3782000670682414, 0.09764982117283877, 0.9022937257711166, 0.9993791944671989, 0.29917746244716703, 0.09636427629384406, 0.6039574990974645, 0.9874608855596392, 0.9996100025009284, 0.7414571618731268, 0.23497386385930977, 0.02340186855509386, 0.7326287662133097, 0.2666237025386752, 0.9992199842478645, 0.9988309807491997, 0.21538805844162962, 0.005959353395618211, 0.6946903386892086, 0.07491758554491465, 0.0085133619937403, 0.9887909689558443, 0.9920321979842578, 0.7547535509122855, 0.2450873558438268, 0.9963523562503545, 0.99932224733334, 0.9709115900535976, 0.6396756469796946, 0.35979167457951755, 0.7562522054109739, 0.2436119976847018, 0.996599283056728, 0.662104795175306, 0.07184032157679156, 0.6799663558160017, 0.12171672318106086, 0.126292539842003, 0.9965366607182311, 0.3672739504117878, 0.5668025869335764, 0.029765333893263024, 0.03581930010884194, 0.9943904881824156, 0.9981527167955947, 0.9968180701077203, 0.9985653108456506, 0.9994450197706684, 0.04826272256728555, 0.9513658980889382, 0.9925531512812412, 0.9866328168688474, 0.9670353039672053, 0.03164123693962226, 0.9985427940503212, 0.9991083296989244, 0.09998029092680362, 0.48130047027554296, 0.17438422836070397, 0.24355663894378324, 0.9863626855542119, 0.9966495888252105, 0.9965980681367339, 0.9981958942603584, 0.3001263796720461, 0.6952294617719548, 0.9967895433754279, 0.9986064484837881, 0.9991291156240852, 0.9942962212188609, 0.9935388466620415, 0.9989345041415362, 0.9983508112822598, 0.997533770423677, 0.9946316969584217, 0.9499230782983715, 0.9961340492971565, 0.38206885095545184, 0.6146324993631181, 0.9962118998762867, 0.9980972451473479, 0.9987268041015864, 0.9786271948852496, 0.9891208988225407, 0.9780830492555747, 0.9679914014807612, 0.03169483386490952, 0.8993304290049802, 0.09921438896496224, 0.9958958551703736, 0.9983842264613415, 0.4356874808728431, 0.008091338930495656, 0.31493980760236945, 0.21763627020743448, 0.023651606104525765, 0.386407148281716, 0.034109393888270036, 0.3293921760159216, 0.12498478636431794, 0.12498478636431794, 0.99685083980753, 0.9997876206210413, 0.9910861301742259, 0.9976579640207924, 0.9969352468308748, 0.9977106005185528, 0.39242294385469656, 0.2822963469626671, 0.12284544329364415, 0.20195046359636953, 0.9978835734666541, 0.2383585218440939, 0.756329925082221, 0.9877930061655603, 0.3311522148882103, 0.6650640315671555, 0.9977429350092305, 0.9926961830096424, 0.9951301901969567, 0.47638392311775474, 0.5203578237132398, 0.9958727966521008, 0.9967800566720252, 0.9852633928176123, 0.9966690377240098, 0.049102092283725786, 0.0006363122110202046, 0.9501201830883355, 0.9906101559194818, 0.9978883765233575, 0.9915594554152365, 0.9984911278927701, 0.986602219891816, 0.049127444051126484, 0.9457032979841848, 0.9978147029664676, 0.9913078804091516, 0.29232970994418195, 0.5146824779895441, 0.005796906429488028, 0.16024305630084762, 0.025257949442769264, 0.0016562589798537221, 0.996028207824175, 0.9907383547356438, 0.9974212920007027, 0.9986184532003352, 0.9969268395200287, 0.11369198102192192, 0.4922837343801563, 0.39080028823307167, 0.0030521337187093133, 0.9960915052185981, 0.9979774813496876, 0.9968783809855126, 0.9895057463143607, 0.8179464084321371, 0.1813325768395441, 0.9993987881492578, 0.7220899931377905, 0.27750339776522737, 0.9984465068895308, 0.9984811948396345, 0.9947211753855997, 0.9143665241972878, 0.9826562213823742, 0.9956903963652287, 0.9991301976460341, 0.9985964369808766, 0.9898920831028213, 0.9612132248069402, 0.1901029137325553, 0.6353370482399745, 0.13739851971842618, 0.036709528169045165, 0.9980478638101206, 0.9953339871508752, 0.9976936562753074, 0.8439788975264908, 0.16577513322024987, 0.8186064100610568, 0.014670365771703527, 0.9773346845017903, 0.998185171774106, 0.04583668663447338, 0.3746201381328764, 0.5445260517478793, 0.03446367416125818, 0.44530397565220553, 0.033356103045109026, 0.16066522966727514, 0.182346696646596, 0.1423193729924652, 0.03613577829886811, 0.9917511595035778, 0.9901300572525874, 0.9987492225700377, 0.9810329079142662, 0.9992429091074635, 0.987661426284464, 0.996521910647464, 0.9925247106988138, 0.5186221502469931, 0.48055813921969087, 0.9991883777821885, 0.6330982655396926, 0.006972977478409072, 0.3597094588862059, 0.9921018137835775, 0.996901149849184, 0.9947227164401189, 0.9916985583895765, 0.00821356386134687, 0.9899731592890577, 0.9972723275555477, 0.9907990890935092, 0.16390079305962388, 0.8321117186103981, 0.9990647918898115, 0.9482217334831681, 0.9907406981193212, 0.531921586258547, 0.46737100869624965, 0.9831043903095383, 0.998701787544823, 0.9814272473687252, 0.9991880384793519, 0.9994390021028846, 0.9914497958671236, 0.9981338899600966, 0.00029693059198253145, 0.7007561970787742, 0.2984152449424441, 0.00029693059198253145, 0.9948054066472296, 0.9902311555615191, 0.9980033490646988, 0.9935080191184614, 0.06030847243212777, 0.93867219188715, 0.11302771021243176, 0.8861640001862253, 0.9993915739096999, 0.27340213087640636, 0.5233924682525108, 0.20276994031617365, 0.1933847896172836, 0.8043438152223299, 0.9963603930759517, 0.0034694410648418703, 0.9995074554346851, 0.9984912333200037, 0.9941393013524366, 0.9993248146899517, 0.9962520511783667, 0.0015615235911886625, 0.9987691525662749, 0.6634658847654994, 0.33574907969973217, 0.9788019001906196, 0.020837887881053997, 0.006837926335624881, 0.8595273403880476, 0.1326557709111227, 0.9988258987436307, 0.9946672113743381, 0.983574594247033, 0.9929868768030063, 0.9962389821427821, 0.997194400175102, 0.9961605373672551, 0.53117208713564, 0.06111708766855353, 0.3994970608578621, 0.007950190265828102, 0.8873758856241661, 0.9983910790247826, 0.2786848018047002, 0.7186211870435665, 0.9949266719294442, 0.9922928865579086, 0.07342948464485959, 0.9137891422471415, 0.9966767269628294, 0.9985069404616999, 0.271392730794622, 0.5932184893791854, 0.1352235557617803, 0.9869286994135961, 0.9946104013969362, 0.9996762290486726, 0.9939976762139835, 0.9989842053337823, 0.9944682161511214, 0.9966733819546691, 0.5042918751199291, 0.4912314023550459, 0.0032651181912207957, 0.0011259028245588951, 0.985712338468796, 0.9910539896158257, 0.9984891209144342, 0.9844421647340756, 0.9989575313932119, 0.9988283265269747, 0.9968292308999224, 0.9966728464052941, 0.9983120581420797, 0.9089527248760773, 0.9988233731393932, 0.9981967882664602, 0.9892221645924253, 0.9878017922463476, 0.07584310473516284, 0.9213532723382745, 0.998424002386446, 0.9961257109881989, 0.9988807533035743, 0.8272386678306872, 0.17259052495471264, 0.9130181504068704, 0.0857978049141208, 0.08680076785435217, 0.9117921366647436, 0.9995879651909039, 0.9884719371203148, 0.9921798169783771, 0.9904138112932854, 0.9976600765255548, 0.9975571110966377, 0.03981464936819922, 0.9592552731501022, 0.2622128663252009, 0.09815701322894164, 0.6396334946562019, 0.9843111948312797, 0.9889974254445882, 0.9914855272313973, 0.9969644983814784, 0.9953409674222031, 0.9974605964155888, 0.3637145781309839, 0.264261373173293, 0.2742066936690621, 0.021311401062362338, 0.07530028375368027, 0.9909150948019179, 0.9989988551790474, 0.9928260156589119, 0.3841865160450673, 0.6146984256721076, 0.9956314657018343, 0.9959733614922223, 0.9990929030784477, 0.20553624715985533, 0.6460475268800661, 0.09634511585618219, 0.05191931243360929, 0.9571532057648207, 0.9993999395770066, 0.9916977980038465, 0.9940821085624119, 0.998468807464126, 0.9853884691442466, 0.9270792408351989, 0.6515838633209403, 0.3477976469785579, 0.9954952015859391, 0.4642821200061677, 0.5315693837751775, 0.857543884713127, 0.14006550116981076, 0.9992792799584562, 0.9932570049796969, 0.001448574863257326, 0.9980680807842977, 0.9977669348742546, 0.9932807158139964, 0.9749684215368246, 0.9536245790959744, 0.9994856523506349, 0.989562353768797, 0.5021984613596469, 0.09540445703929967, 0.17888335694868687, 0.22261039975836588, 0.9638699064248943, 0.9910931240571399, 0.9520120380428729, 0.045935442125108465, 0.9923270701596443, 0.002034833413238844, 0.16583892317896579, 0.5906103981925744, 0.24163646782211273, 0.9606236851432548, 0.0390353178299808, 0.9946854361791516, 0.20669380517384658, 0.7310514789902249, 0.05191469056187183, 0.010228544980591848, 0.9317649647225202, 0.049516065379961935, 0.018491476697911097, 0.9994971798574911, 0.9963133285203022, 0.999049193718513, 0.9805794043817506, 0.9875218488356804, 0.9917597309788327, 0.9992077271913858, 0.9964143033132309, 0.5942800864943995, 0.11574867044139284, 0.23615836116901626, 0.05282489657727995, 0.8281955131589699, 0.9790156460553898, 0.8817410590777857, 0.11801226996910218, 0.9962410437620511, 0.9993080211623907, 0.9892366749000145, 0.9996756550506539, 0.9453365793466468, 0.9974431514105184, 0.9852980191872511, 0.6985364710753019, 0.30118213550050665, 0.7394127728247789, 0.2604966882015905, 0.9958717265446277, 0.9929468071484426, 0.0068091164473506795, 0.9918413145937689, 0.5018665853035005, 0.1518806771313225, 0.2707438157558358, 0.07373916933187397, 0.9731983451465278, 0.02453441206251751, 0.9921707188789713, 0.9988276146920729, 0.9976341531164098, 0.9900707583921783, 0.9946923399435691, 0.4040979124788959, 0.46218698739773717, 0.13385743350863427, 0.2508455416197247, 0.7459354263954971, 0.996976271946667, 0.9906780168029669, 0.9992476822882035, 0.9982895313034551, 0.8019778161277125, 0.10919271935187334, 0.08864694340617202, 0.9970285900861093, 0.9977282043000856, 0.8468048184543319, 0.1524377857782016, 0.9882238628773539, 0.998867915404447, 0.9980316148769989, 0.9964992214653319, 0.9976494943490287, 0.9992797842652718, 0.9961224988548234, 0.9926180362192653, 0.9708407571326783, 0.8784835687466781, 0.995909079558878, 0.9807756290280213, 0.14994804995280564, 0.12606683289639997, 0.14539924670396648, 0.5289608349364411, 0.04954946396056958, 0.9244188525450214, 0.07471057536732392, 0.9354965571304015, 0.032731487101504704, 0.9101871220918423, 0.05539174740254642, 0.982922770157676, 0.9994758370209942, 0.9958460862052075, 0.5648250610410886, 0.42361879578081646, 0.9988210768376989, 0.9987013344979628, 0.9984898922155953, 0.9317338314809004, 0.0670500046953545, 0.5650045940174065, 0.43375706792837726, 0.9953637495354789, 0.9959501744352339, 0.9700513160160148, 0.8764970980125398, 0.005201145846264775, 0.11817003362713568, 0.9979439233749569, 0.9948419790303634, 0.7096715357311486, 0.2813529875799796, 0.008826760394666027, 0.9983896501381492, 0.9987470086317476, 0.9977216186778302, 0.9284528706242418, 0.07133371394952158, 0.9946852450701199, 0.998790477979596, 0.9950390741973888, 0.9993992929308875, 0.9978277408053697, 0.9911909988422525, 0.9928985138221714, 0.9981991201437008, 0.9989389405008507, 0.999364609480608, 0.7293895052321232, 0.0006088393198932581, 0.26464215771360283, 0.005276607439074903, 0.9741292781178622, 0.1172322216903111, 0.7443024908358814, 0.10685228539481481, 0.031139808886488887, 0.23162754258805232, 0.11450830205238657, 0.6537789962131049, 0.7060086613822596, 0.01332842499650927, 0.143429767499749, 0.0029839757454871497, 0.13407997683055592, 0.5907214127140457, 0.3746350084961372, 0.03196544441093321], \"Term\": [\"absolute\", \"accept\", \"accessible\", \"accomplish\", \"address\", \"address\", \"adequately\", \"agency\", \"agree\", \"agree\", \"alarm\", \"algorithm\", \"also\", \"also\", \"also\", \"also\", \"also\", \"animal\", \"apple\", \"applicable\", \"application\", \"application\", \"apply\", \"apply\", \"appreciate\", \"approval\", \"apr\", \"arab\", \"argument\", \"armenian\", \"article\", \"article\", \"article\", \"associate\", \"assure\", \"atheism\", \"atheist\", \"attack\", \"attack\", \"author\", \"authority\", \"auto\", \"automatically\", \"available\", \"available\", \"available\", \"average\", \"aware\", \"aware\", \"ax\", \"back\", \"bad\", \"belief\", \"believe\", \"bible\", \"big\", \"bike\", \"bio\", \"birth\", \"birthday\", \"bit\", \"bit\", \"bit\", \"black\", \"black\", \"blank\", \"blind\", \"block\", \"block\", \"blue\", \"book\", \"book\", \"box\", \"boy\", \"bug\", \"bus\", \"button\", \"buy\", \"buy\", \"cable\", \"campaign\", \"canadian\", \"cap\", \"capture\", \"car\", \"card\", \"card\", \"carry\", \"carry\", \"carry\", \"case\", \"case\", \"case\", \"case\", \"cbr\", \"cd\", \"center\", \"center\", \"ceremonial\", \"certainly\", \"character\", \"cheap\", \"child\", \"chip\", \"chip\", \"chip\", \"christian\", \"church\", \"circuit\", \"city\", \"claim\", \"clear\", \"click\", \"clipper\", \"clipper_chip\", \"clock\", \"closed\", \"club\", \"code\", \"com\", \"combination\", \"come\", \"come\", \"communication\", \"community\", \"community\", \"complete\", \"complete\", \"complexity\", \"computer\", \"computer\", \"computer_science\", \"concept\", \"conclusion\", \"conclusion\", \"connector\", \"contact\", \"contact\", \"control\", \"control\", \"control\", \"control\", \"control\", \"controller\", \"convert\", \"converter\", \"convince\", \"cool\", \"copy\", \"copy\", \"corner\", \"corporation\", \"correctly\", \"correctly\", \"cost\", \"cost\", \"country\", \"couple\", \"cover\", \"cover\", \"cover\", \"cpu\", \"crash\", \"create\", \"create\", \"create\", \"crew\", \"crime\", \"crypto\", \"cryptography\", \"cure\", \"cycle\", \"danger\", \"daughter\", \"day\", \"day\", \"dealer\", \"dealer\", \"death\", \"deck\", \"defense\", \"defense\", \"deficit\", \"define\", \"define\", \"department\", \"department\", \"dept\", \"depth\", \"describe\", \"describe\", \"describe\", \"description\", \"design\", \"design\", \"design\", \"detailed\", \"deter\", \"development\", \"device\", \"dialog\", \"die\", \"different\", \"different\", \"different\", \"direct\", \"directory\", \"dirty\", \"discount\", \"discussion\", \"disease\", \"disk\", \"display\", \"distribution_inet\", \"distribution_world\", \"distribution_world\", \"divide\", \"division\", \"division\", \"do\", \"do\", \"do\", \"doctor\", \"dog\", \"door\", \"doubt\", \"draft\", \"drive\", \"driver\", \"driver\", \"drug\", \"dual\", \"earth\", \"earth\", \"electronic\", \"email\", \"email\", \"enable\", \"encryption\", \"end\", \"end\", \"energy\", \"engine\", \"enhanced_mode\", \"entry\", \"environment\", \"environment\", \"environmental\", \"escape\", \"essentially\", \"even\", \"even\", \"even\", \"everytime\", \"evidence\", \"evolve\", \"example\", \"example\", \"excuse\", \"exist\", \"exist\", \"expansion\", \"explain\", \"export\", \"exposure\", \"extension\", \"external\", \"facility\", \"fact\", \"fact\", \"fact\", \"factor\", \"faith\", \"family\", \"fan\", \"faq\", \"fast\", \"fast\", \"fast\", \"fax\", \"feature\", \"feature\", \"fee\", \"field\", \"field\", \"field\", \"fight\", \"fight\", \"file\", \"film\", \"final\", \"final\", \"final\", \"fire\", \"fire\", \"firearm\", \"first\", \"first\", \"first\", \"first\", \"fish\", \"flexible\", \"flight\", \"floppy\", \"fly\", \"fly\", \"fly\", \"follow\", \"follow\", \"follow\", \"follow\", \"follow\", \"follower\", \"font\", \"force\", \"format\", \"front\", \"front\", \"fuel\", \"function\", \"function\", \"galaxy\", \"game\", \"gateway\", \"gear\", \"generate\", \"genesis\", \"get\", \"get\", \"giant\", \"gift\", \"girl\", \"girl\", \"give\", \"give\", \"global\", \"gmt\", \"go\", \"goal\", \"god\", \"good\", \"good\", \"good\", \"good_luck\", \"government\", \"government\", \"graphic\", \"great\", \"great\", \"greek\", \"ground\", \"ground\", \"ground\", \"ground\", \"group\", \"group\", \"group\", \"group\", \"group\", \"guess\", \"gun\", \"guy\", \"handgun\", \"handle\", \"hard\", \"hardware\", \"harley\", \"hassle\", \"headache\", \"health\", \"hear\", \"help\", \"help\", \"help\", \"hi\", \"high\", \"high\", \"high\", \"high\", \"high\", \"highway\", \"hit\", \"hit\", \"hole\", \"home\", \"host\", \"however\", \"however\", \"however\", \"hr\", \"human\", \"human\", \"human_being\", \"hunt\", \"ice\", \"ice\", \"ide\", \"ill\", \"image\", \"image\", \"import\", \"impressive\", \"improve\", \"include\", \"include\", \"include\", \"include\", \"increase\", \"increase\", \"increase\", \"indeed\", \"infinity\", \"information\", \"information\", \"information\", \"informed\", \"inhabitant\", \"input\", \"input\", \"instal\", \"instal\", \"insurance\", \"intent\", \"interested\", \"interested\", \"interface\", \"internal\", \"internet\", \"interpretation\", \"intersection\", \"investigation\", \"investment\", \"israeli\", \"issue\", \"issue\", \"issue\", \"issue\", \"japanese\", \"jewish\", \"jewish\", \"judaism\", \"key\", \"keyword\", \"keyword\", \"kill\", \"km\", \"know\", \"know\", \"know\", \"lab\", \"laboratory\", \"land\", \"language\", \"last\", \"last\", \"launch\", \"law\", \"law\", \"leadership\", \"left\", \"lemieux\", \"let\", \"let\", \"level\", \"level\", \"level\", \"library\", \"license\", \"license\", \"life\", \"life\", \"lift\", \"light\", \"light\", \"line\", \"line\", \"little\", \"live\", \"live\", \"live\", \"lock\", \"long\", \"look\", \"look\", \"look\", \"lose\", \"lose\", \"lot\", \"love\", \"low\", \"low\", \"low\", \"low\", \"low\", \"luck\", \"lunar\", \"m\", \"m\", \"mac\", \"machine\", \"mad\", \"mail\", \"mail\", \"make\", \"make\", \"male\", \"malfunction\", \"man\", \"man\", \"man\", \"man\", \"manager\", \"many\", \"many\", \"many\", \"many\", \"mar\", \"master\", \"material\", \"matter\", \"maybe\", \"mean\", \"mean\", \"medical\", \"medicine\", \"meet\", \"meet\", \"member\", \"memory\", \"message\", \"message\", \"message\", \"message\", \"meter\", \"mhz\", \"mile\", \"military\", \"mirror\", \"mirror\", \"mission\", \"mode\", \"model\", \"modem\", \"modify\", \"money\", \"monitor\", \"moon\", \"moral\", \"moral_agency\", \"morality\", \"mother\", \"mother\", \"motif\", \"mouse\", \"move\", \"movie\", \"mph\", \"ms_window\", \"much\", \"much\", \"murder\", \"murder\", \"muslim\", \"national\", \"need\", \"need\", \"need\", \"need\", \"need\", \"new\", \"new\", \"new\", \"new\", \"new\", \"nhl\", \"nntp_poste\", \"noise\", \"normal\", \"northern\", \"notice\", \"number\", \"number\", \"number\", \"number\", \"object\", \"observation\", \"observation\", \"observe\", \"obtain\", \"obtain\", \"occupy\", \"offense\", \"oil\", \"operate\", \"operate\", \"operation\", \"opinions_expresse\", \"oracle\", \"orbit\", \"organization\", \"organization\", \"organization\", \"origin\", \"originator\", \"ozone\", \"package\", \"paint\", \"panel\", \"panel\", \"parent\", \"park\", \"part\", \"part\", \"part\", \"part\", \"part\", \"part\", \"particularly\", \"passage\", \"patient\", \"pc\", \"pen\", \"people\", \"people\", \"people\", \"people\", \"percent\", \"period\", \"pgp\", \"phase\", \"phone\", \"phone\", \"physical\", \"pick\", \"pick\", \"picture\", \"pin\", \"pitch\", \"pitt\", \"plane\", \"planet\", \"play\", \"player\", \"please_respond\", \"plot\", \"point\", \"point\", \"point\", \"point\", \"police\", \"popular\", \"port\", \"portal\", \"position\", \"position\", \"position\", \"positively\", \"possibility\", \"post\", \"post\", \"post\", \"post\", \"power\", \"power\", \"power\", \"power\", \"power\", \"power\", \"pp\", \"presence\", \"pretty\", \"prevention\", \"price\", \"primary\", \"printer\", \"privacy\", \"private\", \"private\", \"probably\", \"problem\", \"problem\", \"problem\", \"proceed\", \"processor\", \"production\", \"program\", \"program\", \"programmer\", \"proof\", \"property\", \"proposal\", \"proposal\", \"prove\", \"provision\", \"pub\", \"public\", \"public\", \"public_access\", \"publish\", \"publisher\", \"purpose\", \"put\", \"qualified\", \"quality\", \"question\", \"question\", \"question\", \"question\", \"quick\", \"radiation\", \"radio\", \"ram\", \"rate\", \"rate\", \"rather\", \"rather\", \"re\", \"read\", \"read\", \"read\", \"reality\", \"reality\", \"really\", \"really\", \"reason\", \"reference\", \"reflect\", \"religion\", \"religious\", \"religious\", \"remember\", \"remove\", \"remove\", \"reply\", \"reply\", \"report\", \"report\", \"report\", \"research\", \"resource\", \"responce\", \"restriction\", \"revelation\", \"ride\", \"rider\", \"right\", \"right\", \"right\", \"right\", \"rip\", \"risk\", \"road\", \"road\", \"rocket\", \"role\", \"routine\", \"routine\", \"rsa\", \"rule\", \"run\", \"run\", \"run\", \"runner\", \"russian\", \"s\", \"sabbath\", \"sale\", \"satellite\", \"saturn\", \"say\", \"say\", \"say\", \"say\", \"sc\", \"scale\", \"scan\", \"scare\", \"school\", \"science\", \"scientific\", \"score\", \"screen\", \"script\", \"scsi\", \"season\", \"second_amendment\", \"secrecy\", \"secret\", \"secret\", \"section\", \"secure\", \"security\", \"see\", \"see\", \"self\", \"self\", \"sell\", \"sell\", \"sense\", \"sensor\", \"serdar_argic\", \"serial\", \"serious\", \"server\", \"service\", \"service\", \"set\", \"set\", \"set\", \"seventh\", \"shareware\", \"shuttle\", \"signal\", \"sister\", \"site\", \"size\", \"size\", \"size\", \"size\", \"size\", \"sky\", \"software\", \"solar\", \"soldier\", \"soldier\", \"solid\", \"somehow\", \"soon\", \"source\", \"source\", \"source\", \"source\", \"soviet_union\", \"space\", \"space_station\", \"spacecraft\", \"speak\", \"spec\", \"spectrum\", \"speed\", \"speed\", \"split\", \"sport\", \"sport\", \"star\", \"star\", \"start\", \"stat\", \"state\", \"state\", \"statement\", \"status\", \"stereo\", \"steve\", \"still\", \"strip\", \"study\", \"study\", \"study\", \"study\", \"subscription\", \"sufficient\", \"suggest\", \"suggest\", \"suitable\", \"support\", \"support\", \"support\", \"support\", \"sure\", \"sure\", \"surface\", \"system\", \"system\", \"system\", \"system\", \"take\", \"take\", \"take\", \"talk\", \"tap\", \"tape\", \"tavare\", \"tc\", \"teaching\", \"team\", \"technical\", \"technology\", \"technology\", \"technology\", \"technology\", \"tel_fax\", \"television\", \"tell\", \"tell\", \"terrorism\", \"test\", \"testing\", \"thank\", \"theft\", \"therefore\", \"thermal\", \"thing\", \"thing\", \"think\", \"think\", \"though\", \"time\", \"time\", \"tire\", \"today\", \"today\", \"today\", \"today\", \"top\", \"top\", \"tour\", \"trade\", \"transfer\", \"translate\", \"travel\", \"treat\", \"treat\", \"treat\", \"treatment\", \"treatment\", \"trial\", \"trivial\", \"true\", \"truth\", \"try\", \"try\", \"try\", \"turk\", \"turkish\", \"type\", \"type\", \"typically\", \"understand\", \"unit\", \"united_state\", \"universe\", \"university\", \"unix\", \"unknown\", \"unnecessary\", \"upcoming\", \"upgrade\", \"upper\", \"use\", \"use\", \"use\", \"use\", \"use\", \"user\", \"user\", \"user_interface\", \"value\", \"value\", \"value\", \"variation\", \"ve\", \"vehicle\", \"vendor\", \"vendor\", \"version\", \"version_pl\", \"video\", \"view\", \"view\", \"village\", \"village\", \"violate\", \"violence\", \"visualization\", \"want\", \"want\", \"want\", \"war\", \"warrant\", \"way\", \"way\", \"way\", \"weapon\", \"week\", \"weight\", \"well\", \"well\", \"widget\", \"win\", \"wind\", \"window\", \"wing\", \"wiretap\", \"wiring\", \"withdraw\", \"woman\", \"word\", \"work\", \"work\", \"work\", \"work\", \"workshop\", \"world\", \"world\", \"world\", \"world\", \"write\", \"write\", \"write\", \"year\", \"year\", \"year\", \"year\", \"year\", \"young\", \"young\", \"young\"]}, \"R\": 30, \"lambda.step\": 0.01, \"plot.opts\": {\"xlab\": \"PC1\", \"ylab\": \"PC2\"}, \"topic.order\": [19, 4, 12, 7, 14, 11, 1, 10, 2, 20, 17, 5, 3, 6, 9, 18, 16, 8, 15, 13]};\n",
       "\n",
       "function LDAvis_load_lib(url, callback){\n",
       "  var s = document.createElement('script');\n",
       "  s.src = url;\n",
       "  s.async = true;\n",
       "  s.onreadystatechange = s.onload = callback;\n",
       "  s.onerror = function(){console.warn(\"failed to load library \" + url);};\n",
       "  document.getElementsByTagName(\"head\")[0].appendChild(s);\n",
       "}\n",
       "\n",
       "if(typeof(LDAvis) !== \"undefined\"){\n",
       "   // already loaded: just create the visualization\n",
       "   !function(LDAvis){\n",
       "       new LDAvis(\"#\" + \"ldavis_el16821911397067052476165277981608\", ldavis_el16821911397067052476165277981608_data);\n",
       "   }(LDAvis);\n",
       "}else if(typeof define === \"function\" && define.amd){\n",
       "   // require.js is available: use it to load d3/LDAvis\n",
       "   require.config({paths: {d3: \"https://d3js.org/d3.v5\"}});\n",
       "   require([\"d3\"], function(d3){\n",
       "      window.d3 = d3;\n",
       "      LDAvis_load_lib(\"https://cdn.jsdelivr.net/gh/bmabey/pyLDAvis@3.4.0/pyLDAvis/js/ldavis.v3.0.0.js\", function(){\n",
       "        new LDAvis(\"#\" + \"ldavis_el16821911397067052476165277981608\", ldavis_el16821911397067052476165277981608_data);\n",
       "      });\n",
       "    });\n",
       "}else{\n",
       "    // require.js not available: dynamically load d3 & LDAvis\n",
       "    LDAvis_load_lib(\"https://d3js.org/d3.v5.js\", function(){\n",
       "         LDAvis_load_lib(\"https://cdn.jsdelivr.net/gh/bmabey/pyLDAvis@3.4.0/pyLDAvis/js/ldavis.v3.0.0.js\", function(){\n",
       "                 new LDAvis(\"#\" + \"ldavis_el16821911397067052476165277981608\", ldavis_el16821911397067052476165277981608_data);\n",
       "            })\n",
       "         });\n",
       "}\n",
       "</script>"
      ],
      "text/plain": [
       "PreparedData(topic_coordinates=              x         y  topics  cluster       Freq\n",
       "topic                                                \n",
       "18     0.336524 -0.053704       1        1  34.413836\n",
       "3      0.316929 -0.118895       2        1  15.585769\n",
       "11     0.216787  0.285240       3        1   9.181670\n",
       "6      0.247093  0.167004       4        1   9.110823\n",
       "13     0.184104 -0.279652       5        1   7.614051\n",
       "10    -0.019302  0.039633       6        1   5.391939\n",
       "0      0.153912  0.027969       7        1   5.120545\n",
       "9     -0.008544 -0.117709       8        1   2.140518\n",
       "1      0.006923 -0.062099       9        1   2.065613\n",
       "19     0.038373  0.069498      10        1   1.847956\n",
       "16    -0.037562  0.037036      11        1   1.732313\n",
       "4     -0.046033 -0.038083      12        1   1.606874\n",
       "2     -0.081906  0.028034      13        1   1.237492\n",
       "5     -0.118580  0.023843      14        1   1.144277\n",
       "8     -0.162683  0.013122      15        1   0.619225\n",
       "17    -0.175944 -0.007815      16        1   0.433675\n",
       "15    -0.204259 -0.001773      17        1   0.294853\n",
       "7     -0.212202 -0.003259      18        1   0.200450\n",
       "14    -0.214082 -0.003627      19        1   0.158955\n",
       "12    -0.219547 -0.004763      20        1   0.099166, topic_info=              Term          Freq         Total Category  logprob  loglift\n",
       "4399            ax  53235.000000  53235.000000  Default  30.0000  30.0000\n",
       "17            line  17060.000000  17060.000000  Default  29.0000  29.0000\n",
       "208          write  13405.000000  13405.000000  Default  28.0000  28.0000\n",
       "142   organization   9429.000000   9429.000000  Default  27.0000  27.0000\n",
       "45         article   9896.000000   9896.000000  Default  26.0000  26.0000\n",
       "...            ...           ...           ...      ...      ...      ...\n",
       "4946            tv      0.020348      1.258241  Topic20 -11.0492   2.7917\n",
       "6485   advertising      0.020348      1.258227  Topic20 -11.0492   2.7917\n",
       "7775          logo      0.020348      1.258225  Topic20 -11.0492   2.7917\n",
       "7567        circle      0.020348      1.258226  Topic20 -11.0492   2.7917\n",
       "4391             _      0.020348      1.258251  Topic20 -11.0492   2.7916\n",
       "\n",
       "[871 rows x 6 columns], token_table=      Topic      Freq        Term\n",
       "term                             \n",
       "495       9  0.990580    absolute\n",
       "1354      2  0.999137      accept\n",
       "1277     15  0.843120  accessible\n",
       "2283      6  0.995016  accomplish\n",
       "183       1  0.170685     address\n",
       "...     ...       ...         ...\n",
       "40        8  0.002984        year\n",
       "40        9  0.134080        year\n",
       "614       1  0.590721       young\n",
       "614       8  0.374635       young\n",
       "614       9  0.031965       young\n",
       "\n",
       "[1018 rows x 3 columns], R=30, lambda_step=0.01, plot_opts={'xlab': 'PC1', 'ylab': 'PC2'}, topic_order=[19, 4, 12, 7, 14, 11, 1, 10, 2, 20, 17, 5, 3, 6, 9, 18, 16, 8, 15, 13])"
      ]
     },
     "execution_count": 18,
     "metadata": {},
     "output_type": "execute_result"
    }
   ],
   "source": [
    "# Visualize the topics\n",
    "pyLDAvis.enable_notebook()\n",
    "vis = pyLDAvis.gensim.prepare(lda_model, corpus, id2word)\n",
    "vis"
   ]
  },
  {
   "cell_type": "code",
   "execution_count": null,
   "id": "6a73341c",
   "metadata": {},
   "outputs": [],
   "source": []
  }
 ],
 "metadata": {
  "kernelspec": {
   "display_name": "Python 3 (ipykernel)",
   "language": "python",
   "name": "python3"
  },
  "language_info": {
   "codemirror_mode": {
    "name": "ipython",
    "version": 3
   },
   "file_extension": ".py",
   "mimetype": "text/x-python",
   "name": "python",
   "nbconvert_exporter": "python",
   "pygments_lexer": "ipython3",
   "version": "3.10.12"
  }
 },
 "nbformat": 4,
 "nbformat_minor": 5
}
